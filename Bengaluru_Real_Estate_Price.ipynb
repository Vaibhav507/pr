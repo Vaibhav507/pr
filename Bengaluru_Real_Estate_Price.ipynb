{
 "cells": [
  {
   "cell_type": "markdown",
   "id": "53f29b4a-d428-44e4-9021-6c8ac7bc3eb7",
   "metadata": {},
   "source": [
    "# House Price Prediction Model"
   ]
  },
  {
   "cell_type": "code",
   "execution_count": 1,
   "id": "92b8bd6d-eda3-404d-8469-2715c08cfc06",
   "metadata": {},
   "outputs": [],
   "source": [
    "import numpy as np\n",
    "import pandas as pd\n",
    "import seaborn as sns\n",
    "import matplotlib.pyplot as plt\n",
    "from scipy import stats\n",
    "from sklearn.model_selection import train_test_split\n",
    "from sklearn.linear_model import LinearRegression\n",
    "from sklearn.tree import DecisionTreeRegressor\n",
    "from sklearn.metrics import mean_squared_error as mse\n",
    "from sklearn.model_selection import cross_val_score\n",
    "from sklearn.model_selection import KFold\n",
    "%matplotlib inline \n",
    "import matplotlib\n",
    "matplotlib.rcParams['figure.figsize'] = (20, 10)\n",
    "import warnings\n",
    "warnings.filterwarnings('ignore')"
   ]
  },
  {
   "cell_type": "code",
   "execution_count": 2,
   "id": "4b0986b0-fc43-4c35-bd76-9df516673221",
   "metadata": {},
   "outputs": [
    {
     "data": {
      "text/html": [
       "<div>\n",
       "<style scoped>\n",
       "    .dataframe tbody tr th:only-of-type {\n",
       "        vertical-align: middle;\n",
       "    }\n",
       "\n",
       "    .dataframe tbody tr th {\n",
       "        vertical-align: top;\n",
       "    }\n",
       "\n",
       "    .dataframe thead th {\n",
       "        text-align: right;\n",
       "    }\n",
       "</style>\n",
       "<table border=\"1\" class=\"dataframe\">\n",
       "  <thead>\n",
       "    <tr style=\"text-align: right;\">\n",
       "      <th></th>\n",
       "      <th>area_type</th>\n",
       "      <th>availability</th>\n",
       "      <th>location</th>\n",
       "      <th>size</th>\n",
       "      <th>society</th>\n",
       "      <th>total_sqft</th>\n",
       "      <th>bath</th>\n",
       "      <th>balcony</th>\n",
       "      <th>price</th>\n",
       "    </tr>\n",
       "  </thead>\n",
       "  <tbody>\n",
       "    <tr>\n",
       "      <th>0</th>\n",
       "      <td>Super built-up  Area</td>\n",
       "      <td>19-Dec</td>\n",
       "      <td>Electronic City Phase II</td>\n",
       "      <td>2 BHK</td>\n",
       "      <td>Coomee</td>\n",
       "      <td>1056</td>\n",
       "      <td>2.0</td>\n",
       "      <td>1.0</td>\n",
       "      <td>39.07</td>\n",
       "    </tr>\n",
       "    <tr>\n",
       "      <th>1</th>\n",
       "      <td>Plot  Area</td>\n",
       "      <td>Ready To Move</td>\n",
       "      <td>Chikka Tirupathi</td>\n",
       "      <td>4 Bedroom</td>\n",
       "      <td>Theanmp</td>\n",
       "      <td>2600</td>\n",
       "      <td>5.0</td>\n",
       "      <td>3.0</td>\n",
       "      <td>120.00</td>\n",
       "    </tr>\n",
       "    <tr>\n",
       "      <th>2</th>\n",
       "      <td>Built-up  Area</td>\n",
       "      <td>Ready To Move</td>\n",
       "      <td>Uttarahalli</td>\n",
       "      <td>3 BHK</td>\n",
       "      <td>NaN</td>\n",
       "      <td>1440</td>\n",
       "      <td>2.0</td>\n",
       "      <td>3.0</td>\n",
       "      <td>62.00</td>\n",
       "    </tr>\n",
       "    <tr>\n",
       "      <th>3</th>\n",
       "      <td>Super built-up  Area</td>\n",
       "      <td>Ready To Move</td>\n",
       "      <td>Lingadheeranahalli</td>\n",
       "      <td>3 BHK</td>\n",
       "      <td>Soiewre</td>\n",
       "      <td>1521</td>\n",
       "      <td>3.0</td>\n",
       "      <td>1.0</td>\n",
       "      <td>95.00</td>\n",
       "    </tr>\n",
       "    <tr>\n",
       "      <th>4</th>\n",
       "      <td>Super built-up  Area</td>\n",
       "      <td>Ready To Move</td>\n",
       "      <td>Kothanur</td>\n",
       "      <td>2 BHK</td>\n",
       "      <td>NaN</td>\n",
       "      <td>1200</td>\n",
       "      <td>2.0</td>\n",
       "      <td>1.0</td>\n",
       "      <td>51.00</td>\n",
       "    </tr>\n",
       "  </tbody>\n",
       "</table>\n",
       "</div>"
      ],
      "text/plain": [
       "              area_type   availability                  location       size  \\\n",
       "0  Super built-up  Area         19-Dec  Electronic City Phase II      2 BHK   \n",
       "1            Plot  Area  Ready To Move          Chikka Tirupathi  4 Bedroom   \n",
       "2        Built-up  Area  Ready To Move               Uttarahalli      3 BHK   \n",
       "3  Super built-up  Area  Ready To Move        Lingadheeranahalli      3 BHK   \n",
       "4  Super built-up  Area  Ready To Move                  Kothanur      2 BHK   \n",
       "\n",
       "   society total_sqft  bath  balcony   price  \n",
       "0  Coomee        1056   2.0      1.0   39.07  \n",
       "1  Theanmp       2600   5.0      3.0  120.00  \n",
       "2      NaN       1440   2.0      3.0   62.00  \n",
       "3  Soiewre       1521   3.0      1.0   95.00  \n",
       "4      NaN       1200   2.0      1.0   51.00  "
      ]
     },
     "execution_count": 2,
     "metadata": {},
     "output_type": "execute_result"
    }
   ],
   "source": [
    "housing = pd.read_csv(\"Bengaluru_House_Data.csv\")\n",
    "housing.head()"
   ]
  },
  {
   "cell_type": "code",
   "execution_count": 3,
   "id": "b20d0ca2-5314-439c-88a9-c86c718f1dcc",
   "metadata": {},
   "outputs": [
    {
     "data": {
      "text/plain": [
       "(13320, 9)"
      ]
     },
     "execution_count": 3,
     "metadata": {},
     "output_type": "execute_result"
    }
   ],
   "source": [
    "housing.shape"
   ]
  },
  {
   "cell_type": "code",
   "execution_count": 4,
   "id": "e2329cdf-f552-4f14-8603-c62fccd3c511",
   "metadata": {},
   "outputs": [
    {
     "data": {
      "text/html": [
       "<div>\n",
       "<style scoped>\n",
       "    .dataframe tbody tr th:only-of-type {\n",
       "        vertical-align: middle;\n",
       "    }\n",
       "\n",
       "    .dataframe tbody tr th {\n",
       "        vertical-align: top;\n",
       "    }\n",
       "\n",
       "    .dataframe thead th {\n",
       "        text-align: right;\n",
       "    }\n",
       "</style>\n",
       "<table border=\"1\" class=\"dataframe\">\n",
       "  <thead>\n",
       "    <tr style=\"text-align: right;\">\n",
       "      <th></th>\n",
       "      <th>area_type</th>\n",
       "      <th>availability</th>\n",
       "      <th>location</th>\n",
       "      <th>size</th>\n",
       "      <th>society</th>\n",
       "      <th>total_sqft</th>\n",
       "      <th>bath</th>\n",
       "      <th>balcony</th>\n",
       "      <th>price</th>\n",
       "    </tr>\n",
       "  </thead>\n",
       "  <tbody>\n",
       "    <tr>\n",
       "      <th>count</th>\n",
       "      <td>13320</td>\n",
       "      <td>13320</td>\n",
       "      <td>13319</td>\n",
       "      <td>13304</td>\n",
       "      <td>7818</td>\n",
       "      <td>13320</td>\n",
       "      <td>13247.000000</td>\n",
       "      <td>12711.000000</td>\n",
       "      <td>13320.000000</td>\n",
       "    </tr>\n",
       "    <tr>\n",
       "      <th>unique</th>\n",
       "      <td>4</td>\n",
       "      <td>81</td>\n",
       "      <td>1305</td>\n",
       "      <td>31</td>\n",
       "      <td>2688</td>\n",
       "      <td>2117</td>\n",
       "      <td>NaN</td>\n",
       "      <td>NaN</td>\n",
       "      <td>NaN</td>\n",
       "    </tr>\n",
       "    <tr>\n",
       "      <th>top</th>\n",
       "      <td>Super built-up  Area</td>\n",
       "      <td>Ready To Move</td>\n",
       "      <td>Whitefield</td>\n",
       "      <td>2 BHK</td>\n",
       "      <td>GrrvaGr</td>\n",
       "      <td>1200</td>\n",
       "      <td>NaN</td>\n",
       "      <td>NaN</td>\n",
       "      <td>NaN</td>\n",
       "    </tr>\n",
       "    <tr>\n",
       "      <th>freq</th>\n",
       "      <td>8790</td>\n",
       "      <td>10581</td>\n",
       "      <td>540</td>\n",
       "      <td>5199</td>\n",
       "      <td>80</td>\n",
       "      <td>843</td>\n",
       "      <td>NaN</td>\n",
       "      <td>NaN</td>\n",
       "      <td>NaN</td>\n",
       "    </tr>\n",
       "    <tr>\n",
       "      <th>mean</th>\n",
       "      <td>NaN</td>\n",
       "      <td>NaN</td>\n",
       "      <td>NaN</td>\n",
       "      <td>NaN</td>\n",
       "      <td>NaN</td>\n",
       "      <td>NaN</td>\n",
       "      <td>2.692610</td>\n",
       "      <td>1.584376</td>\n",
       "      <td>112.565627</td>\n",
       "    </tr>\n",
       "    <tr>\n",
       "      <th>std</th>\n",
       "      <td>NaN</td>\n",
       "      <td>NaN</td>\n",
       "      <td>NaN</td>\n",
       "      <td>NaN</td>\n",
       "      <td>NaN</td>\n",
       "      <td>NaN</td>\n",
       "      <td>1.341458</td>\n",
       "      <td>0.817263</td>\n",
       "      <td>148.971674</td>\n",
       "    </tr>\n",
       "    <tr>\n",
       "      <th>min</th>\n",
       "      <td>NaN</td>\n",
       "      <td>NaN</td>\n",
       "      <td>NaN</td>\n",
       "      <td>NaN</td>\n",
       "      <td>NaN</td>\n",
       "      <td>NaN</td>\n",
       "      <td>1.000000</td>\n",
       "      <td>0.000000</td>\n",
       "      <td>8.000000</td>\n",
       "    </tr>\n",
       "    <tr>\n",
       "      <th>25%</th>\n",
       "      <td>NaN</td>\n",
       "      <td>NaN</td>\n",
       "      <td>NaN</td>\n",
       "      <td>NaN</td>\n",
       "      <td>NaN</td>\n",
       "      <td>NaN</td>\n",
       "      <td>2.000000</td>\n",
       "      <td>1.000000</td>\n",
       "      <td>50.000000</td>\n",
       "    </tr>\n",
       "    <tr>\n",
       "      <th>50%</th>\n",
       "      <td>NaN</td>\n",
       "      <td>NaN</td>\n",
       "      <td>NaN</td>\n",
       "      <td>NaN</td>\n",
       "      <td>NaN</td>\n",
       "      <td>NaN</td>\n",
       "      <td>2.000000</td>\n",
       "      <td>2.000000</td>\n",
       "      <td>72.000000</td>\n",
       "    </tr>\n",
       "    <tr>\n",
       "      <th>75%</th>\n",
       "      <td>NaN</td>\n",
       "      <td>NaN</td>\n",
       "      <td>NaN</td>\n",
       "      <td>NaN</td>\n",
       "      <td>NaN</td>\n",
       "      <td>NaN</td>\n",
       "      <td>3.000000</td>\n",
       "      <td>2.000000</td>\n",
       "      <td>120.000000</td>\n",
       "    </tr>\n",
       "    <tr>\n",
       "      <th>max</th>\n",
       "      <td>NaN</td>\n",
       "      <td>NaN</td>\n",
       "      <td>NaN</td>\n",
       "      <td>NaN</td>\n",
       "      <td>NaN</td>\n",
       "      <td>NaN</td>\n",
       "      <td>40.000000</td>\n",
       "      <td>3.000000</td>\n",
       "      <td>3600.000000</td>\n",
       "    </tr>\n",
       "  </tbody>\n",
       "</table>\n",
       "</div>"
      ],
      "text/plain": [
       "                   area_type   availability    location   size  society  \\\n",
       "count                  13320          13320       13319  13304     7818   \n",
       "unique                     4             81        1305     31     2688   \n",
       "top     Super built-up  Area  Ready To Move  Whitefield  2 BHK  GrrvaGr   \n",
       "freq                    8790          10581         540   5199       80   \n",
       "mean                     NaN            NaN         NaN    NaN      NaN   \n",
       "std                      NaN            NaN         NaN    NaN      NaN   \n",
       "min                      NaN            NaN         NaN    NaN      NaN   \n",
       "25%                      NaN            NaN         NaN    NaN      NaN   \n",
       "50%                      NaN            NaN         NaN    NaN      NaN   \n",
       "75%                      NaN            NaN         NaN    NaN      NaN   \n",
       "max                      NaN            NaN         NaN    NaN      NaN   \n",
       "\n",
       "       total_sqft          bath       balcony         price  \n",
       "count       13320  13247.000000  12711.000000  13320.000000  \n",
       "unique       2117           NaN           NaN           NaN  \n",
       "top          1200           NaN           NaN           NaN  \n",
       "freq          843           NaN           NaN           NaN  \n",
       "mean          NaN      2.692610      1.584376    112.565627  \n",
       "std           NaN      1.341458      0.817263    148.971674  \n",
       "min           NaN      1.000000      0.000000      8.000000  \n",
       "25%           NaN      2.000000      1.000000     50.000000  \n",
       "50%           NaN      2.000000      2.000000     72.000000  \n",
       "75%           NaN      3.000000      2.000000    120.000000  \n",
       "max           NaN     40.000000      3.000000   3600.000000  "
      ]
     },
     "execution_count": 4,
     "metadata": {},
     "output_type": "execute_result"
    }
   ],
   "source": [
    "housing.describe(include='all') "
   ]
  },
  {
   "cell_type": "markdown",
   "id": "8c22221b-d8ba-499b-b1ae-8bcc7b291d20",
   "metadata": {},
   "source": [
    "#  Data Cleaning"
   ]
  },
  {
   "cell_type": "markdown",
   "id": "0eb011f0",
   "metadata": {},
   "source": [
    "### We have problems which we have to solve before building our model\n",
    "#### 1.Removing Factors that our not important for our model (availability,society) \n",
    "#### 2.Replacing NULL values by dropping the values or replacing them with mean\n",
    "#### 3.Ensuring all data has similiar dimensions"
   ]
  },
  {
   "cell_type": "code",
   "execution_count": 5,
   "id": "15ccd65a",
   "metadata": {},
   "outputs": [],
   "source": [
    "#Problem 1\n",
    "housing_copy = housing.copy()\n",
    "housing.drop(['availability', 'society'], axis=1, inplace=True)"
   ]
  },
  {
   "cell_type": "code",
   "execution_count": 6,
   "id": "1f222cf5-67b3-4ad3-bc06-d58aa8d9cd77",
   "metadata": {},
   "outputs": [
    {
     "data": {
      "text/plain": [
       "area_type       0\n",
       "location        1\n",
       "size           16\n",
       "total_sqft      0\n",
       "bath           73\n",
       "balcony       609\n",
       "price           0\n",
       "dtype: int64"
      ]
     },
     "execution_count": 6,
     "metadata": {},
     "output_type": "execute_result"
    }
   ],
   "source": [
    "#Problem 2\n",
    "housing.isnull().sum()"
   ]
  },
  {
   "cell_type": "code",
   "execution_count": 7,
   "id": "0609d154-30bc-43ea-9ecc-c657af7906d5",
   "metadata": {},
   "outputs": [
    {
     "data": {
      "text/plain": [
       "(13246, 7)"
      ]
     },
     "execution_count": 7,
     "metadata": {},
     "output_type": "execute_result"
    }
   ],
   "source": [
    "# Droping Missing Values\n",
    "housing.dropna(subset = ['location', 'size', 'bath'], inplace=True)\n",
    "housing.shape"
   ]
  },
  {
   "cell_type": "code",
   "execution_count": 8,
   "id": "2ce17fe7-bbdc-4636-9306-87b4c3bc07e8",
   "metadata": {},
   "outputs": [],
   "source": [
    "#Replacing Missing Values with mean\n",
    "housing['balcony'].replace(np.nan, housing['balcony'].mean(), inplace=True)"
   ]
  },
  {
   "cell_type": "code",
   "execution_count": 9,
   "id": "ce091668-dda0-482b-8e16-07e89097de81",
   "metadata": {},
   "outputs": [
    {
     "data": {
      "text/plain": [
       "area_type     0\n",
       "location      0\n",
       "size          0\n",
       "total_sqft    0\n",
       "bath          0\n",
       "balcony       0\n",
       "price         0\n",
       "dtype: int64"
      ]
     },
     "execution_count": 9,
     "metadata": {},
     "output_type": "execute_result"
    }
   ],
   "source": [
    "housing.isnull().sum()"
   ]
  },
  {
   "cell_type": "code",
   "execution_count": 10,
   "id": "a59d4a14-7fae-4307-a612-6f8794177393",
   "metadata": {},
   "outputs": [
    {
     "data": {
      "text/html": [
       "<div>\n",
       "<style scoped>\n",
       "    .dataframe tbody tr th:only-of-type {\n",
       "        vertical-align: middle;\n",
       "    }\n",
       "\n",
       "    .dataframe tbody tr th {\n",
       "        vertical-align: top;\n",
       "    }\n",
       "\n",
       "    .dataframe thead th {\n",
       "        text-align: right;\n",
       "    }\n",
       "</style>\n",
       "<table border=\"1\" class=\"dataframe\">\n",
       "  <thead>\n",
       "    <tr style=\"text-align: right;\">\n",
       "      <th></th>\n",
       "      <th>area_type</th>\n",
       "      <th>location</th>\n",
       "      <th>total_sqft</th>\n",
       "      <th>bath</th>\n",
       "      <th>balcony</th>\n",
       "      <th>price</th>\n",
       "      <th>BHK</th>\n",
       "    </tr>\n",
       "  </thead>\n",
       "  <tbody>\n",
       "    <tr>\n",
       "      <th>0</th>\n",
       "      <td>Super built-up  Area</td>\n",
       "      <td>Electronic City Phase II</td>\n",
       "      <td>1056</td>\n",
       "      <td>2.0</td>\n",
       "      <td>1.0</td>\n",
       "      <td>39.07</td>\n",
       "      <td>2</td>\n",
       "    </tr>\n",
       "    <tr>\n",
       "      <th>1</th>\n",
       "      <td>Plot  Area</td>\n",
       "      <td>Chikka Tirupathi</td>\n",
       "      <td>2600</td>\n",
       "      <td>5.0</td>\n",
       "      <td>3.0</td>\n",
       "      <td>120.00</td>\n",
       "      <td>4</td>\n",
       "    </tr>\n",
       "    <tr>\n",
       "      <th>2</th>\n",
       "      <td>Built-up  Area</td>\n",
       "      <td>Uttarahalli</td>\n",
       "      <td>1440</td>\n",
       "      <td>2.0</td>\n",
       "      <td>3.0</td>\n",
       "      <td>62.00</td>\n",
       "      <td>3</td>\n",
       "    </tr>\n",
       "    <tr>\n",
       "      <th>3</th>\n",
       "      <td>Super built-up  Area</td>\n",
       "      <td>Lingadheeranahalli</td>\n",
       "      <td>1521</td>\n",
       "      <td>3.0</td>\n",
       "      <td>1.0</td>\n",
       "      <td>95.00</td>\n",
       "      <td>3</td>\n",
       "    </tr>\n",
       "    <tr>\n",
       "      <th>4</th>\n",
       "      <td>Super built-up  Area</td>\n",
       "      <td>Kothanur</td>\n",
       "      <td>1200</td>\n",
       "      <td>2.0</td>\n",
       "      <td>1.0</td>\n",
       "      <td>51.00</td>\n",
       "      <td>2</td>\n",
       "    </tr>\n",
       "  </tbody>\n",
       "</table>\n",
       "</div>"
      ],
      "text/plain": [
       "              area_type                  location total_sqft  bath  balcony  \\\n",
       "0  Super built-up  Area  Electronic City Phase II       1056   2.0      1.0   \n",
       "1            Plot  Area          Chikka Tirupathi       2600   5.0      3.0   \n",
       "2        Built-up  Area               Uttarahalli       1440   2.0      3.0   \n",
       "3  Super built-up  Area        Lingadheeranahalli       1521   3.0      1.0   \n",
       "4  Super built-up  Area                  Kothanur       1200   2.0      1.0   \n",
       "\n",
       "    price  BHK  \n",
       "0   39.07    2  \n",
       "1  120.00    4  \n",
       "2   62.00    3  \n",
       "3   95.00    3  \n",
       "4   51.00    2  "
      ]
     },
     "execution_count": 10,
     "metadata": {},
     "output_type": "execute_result"
    }
   ],
   "source": [
    "housing['BHK'] = housing['size'].apply(lambda x: int(x.split(' ')[0]))\n",
    "housing.drop(['size'], axis=1, inplace=True)\n",
    "housing.head()"
   ]
  },
  {
   "cell_type": "code",
   "execution_count": 11,
   "id": "f47b7fdb-b5bb-4ddd-b305-c89475617f70",
   "metadata": {},
   "outputs": [
    {
     "data": {
      "text/plain": [
       "142.61Sq. Meter    2\n",
       "34.46Sq. Meter     1\n",
       "1Grounds           1\n",
       "24Guntha           1\n",
       "697Sq. Meter       1\n",
       "1500Cents          1\n",
       "132Sq. Yards       1\n",
       "2Acres             1\n",
       "1100Sq. Meter      1\n",
       "15Acres            1\n",
       "1.26Acres          1\n",
       "151.11Sq. Yards    1\n",
       "2940Sq. Yards      1\n",
       "84.53Sq. Meter     1\n",
       "45.06Sq. Meter     1\n",
       "1.25Acres          1\n",
       "86.72Sq. Meter     1\n",
       "38Guntha           1\n",
       "6Acres             1\n",
       "120Sq. Yards       1\n",
       "24Sq. Meter        1\n",
       "142.84Sq. Meter    1\n",
       "2.09Acres          1\n",
       "122Sq. Yards       1\n",
       "4125Perch          1\n",
       "117Sq. Yards       1\n",
       "1000Sq. Meter      1\n",
       "1100Sq. Yards      1\n",
       "5.31Acres          1\n",
       "30Acres            1\n",
       "716Sq. Meter       1\n",
       "1500Sq. Meter      1\n",
       "1574Sq. Yards      1\n",
       "361.33Sq. Yards    1\n",
       "3040Sq. Meter      1\n",
       "78.03Sq. Meter     1\n",
       "500Sq. Yards       1\n",
       "167Sq. Meter       1\n",
       "315Sq. Yards       1\n",
       "3Cents             1\n",
       "188.89Sq. Yards    1\n",
       "204Sq. Meter       1\n",
       "45Sq. Yards        1\n",
       "133.3Sq. Yards     1\n",
       "300Sq. Yards       1\n",
       "Name: total_sqft, dtype: int64"
      ]
     },
     "execution_count": 11,
     "metadata": {},
     "output_type": "execute_result"
    }
   ],
   "source": [
    "# We can convert these values to float but values with ranges will give us error so we can create a filter type function\n",
    "\n",
    "def is_float(x):\n",
    "    try:\n",
    "        float(x)\n",
    "    except:\n",
    "        return False\n",
    "    return True\n",
    "\n",
    "~housing['total_sqft'].apply(is_float)\n",
    "Temp_df = housing[~housing['total_sqft'].apply(is_float)]\n",
    "\n",
    "def check_abnormal(x):\n",
    "    if '-' in x:\n",
    "        return False\n",
    "    else:\n",
    "        return True\n",
    "\n",
    "Temp_df['total_sqft'][Temp_df['total_sqft'].apply(check_abnormal)].value_counts()\n"
   ]
  },
  {
   "cell_type": "code",
   "execution_count": 12,
   "id": "a105e78d-18a0-49fe-be0f-c8b7aaaf1173",
   "metadata": {},
   "outputs": [
    {
     "data": {
      "text/plain": [
       "45"
      ]
     },
     "execution_count": 12,
     "metadata": {},
     "output_type": "execute_result"
    }
   ],
   "source": [
    "len(Temp_df['total_sqft'][Temp_df['total_sqft'].apply(check_abnormal)].unique())"
   ]
  },
  {
   "cell_type": "code",
   "execution_count": 13,
   "id": "50872c8a-c1c8-40bd-a38a-40628a810fc7",
   "metadata": {},
   "outputs": [],
   "source": [
    "#Creating Function to Convert different units of land area to ranges to Sq.ft \n",
    "def abnormal_change(x):\n",
    "    if \"Sq. Meter\" in x:\n",
    "        num = x.split(\"S\")\n",
    "        result = float(num[0]) * 10.76\n",
    "        return result\n",
    "    if \"Perch\" in x:\n",
    "        num = x.split(\"P\")\n",
    "        result = float(num[0]) * 272.25\n",
    "        return result\n",
    "    if \"Sq. Yards\" in x:\n",
    "        num = x.split(\"S\")\n",
    "        result = float(num[0]) * 9.00\n",
    "        return result\n",
    "    if \"Acres\" in x:\n",
    "        num = x.split(\"A\")\n",
    "        result = float(num[0]) * 43560.04\n",
    "        return result\n",
    "    if \"Cents\" in x:\n",
    "        num = x.split(\"C\")\n",
    "        result = float(num[0]) * 435.56\n",
    "        return result\n",
    "    if \"Guntha\" in x:\n",
    "        num = x.split(\"G\")\n",
    "        result = float(num[0]) * 1089.00\n",
    "        return result\n",
    "    if \"Grounds\" in x:\n",
    "        num = x.split(\"G\")\n",
    "        result = float(num[0]) * 2400.35\n",
    "        return result\n",
    "\n",
    "def convert_range_to_num(x):\n",
    "    if '-' in x:\n",
    "        num = x.split('-')\n",
    "        result1 = (float(num[0]) + float(num[1]))/2\n",
    "    else:\n",
    "        bool_val = x.upper().isupper()\n",
    "        if bool_val == True:\n",
    "            result1 = abnormal_change(x)\n",
    "        else:\n",
    "            result1 = float(x)\n",
    "    return result1\n",
    "\n",
    "housing['total_sqft'] = housing['total_sqft'].apply(convert_range_to_num)"
   ]
  },
  {
   "cell_type": "code",
   "execution_count": 14,
   "id": "090e0af7-d9a5-405e-8d6b-1998a68ee288",
   "metadata": {},
   "outputs": [
    {
     "data": {
      "text/plain": [
       "area_type     0\n",
       "location      0\n",
       "total_sqft    0\n",
       "bath          0\n",
       "balcony       0\n",
       "price         0\n",
       "BHK           0\n",
       "dtype: int64"
      ]
     },
     "execution_count": 14,
     "metadata": {},
     "output_type": "execute_result"
    }
   ],
   "source": [
    "housing.isnull().sum()"
   ]
  },
  {
   "cell_type": "code",
   "execution_count": 15,
   "id": "7d2ecd86-7ca5-4c2b-9832-ed73f346ac20",
   "metadata": {},
   "outputs": [
    {
     "name": "stdout",
     "output_type": "stream",
     "text": [
      "<class 'pandas.core.frame.DataFrame'>\n",
      "Int64Index: 13246 entries, 0 to 13319\n",
      "Data columns (total 7 columns):\n",
      " #   Column      Non-Null Count  Dtype  \n",
      "---  ------      --------------  -----  \n",
      " 0   area_type   13246 non-null  object \n",
      " 1   location    13246 non-null  object \n",
      " 2   total_sqft  13246 non-null  float64\n",
      " 3   bath        13246 non-null  float64\n",
      " 4   balcony     13246 non-null  float64\n",
      " 5   price       13246 non-null  float64\n",
      " 6   BHK         13246 non-null  int64  \n",
      "dtypes: float64(4), int64(1), object(2)\n",
      "memory usage: 827.9+ KB\n"
     ]
    }
   ],
   "source": [
    "housing.info()"
   ]
  },
  {
   "cell_type": "code",
   "execution_count": 16,
   "id": "d5f6db40-887c-45b3-b15c-9482fcb5d47e",
   "metadata": {},
   "outputs": [
    {
     "data": {
      "text/plain": [
       "Index(['area_type', 'location', 'total_sqft', 'bathroom', 'balcony', 'price',\n",
       "       'BHK'],\n",
       "      dtype='object')"
      ]
     },
     "execution_count": 16,
     "metadata": {},
     "output_type": "execute_result"
    }
   ],
   "source": [
    "housing.rename(columns = {'bath':'bathroom'}, inplace=True)\n",
    "housing.columns"
   ]
  },
  {
   "cell_type": "markdown",
   "id": "88569513",
   "metadata": {},
   "source": [
    "# Finding Correlations"
   ]
  },
  {
   "cell_type": "code",
   "execution_count": 17,
   "id": "b59356b4",
   "metadata": {},
   "outputs": [
    {
     "data": {
      "text/plain": [
       "price         1.000000\n",
       "bathroom      0.456350\n",
       "BHK           0.397222\n",
       "balcony       0.104212\n",
       "total_sqft    0.048798\n",
       "Name: price, dtype: float64"
      ]
     },
     "execution_count": 17,
     "metadata": {},
     "output_type": "execute_result"
    }
   ],
   "source": [
    "corr_matrix = housing[['total_sqft', 'bathroom', 'balcony', 'BHK', 'price']].corr()\n",
    "corr_matrix['price'].sort_values(ascending=False)"
   ]
  },
  {
   "cell_type": "markdown",
   "id": "5bd3e76b",
   "metadata": {},
   "source": [
    "These values show the correlation between the attributes telling us if other attributes increase or decrease w.r.t increase or decrease in MEDV value\n",
    "\n",
    "+ve value means strong positive correlation which tells us that if we increase MEDV the attribute with a positive value also increase\n",
    "\n",
    "-ve value means strong negative correlation which tells us that if we decrease MEDV the attribute with a negative value also decreases "
   ]
  },
  {
   "cell_type": "markdown",
   "id": "1eaf3e93",
   "metadata": {},
   "source": [
    "# Trying another Attribute Combination\n",
    "### we will try a price per sqft combination "
   ]
  },
  {
   "cell_type": "code",
   "execution_count": 18,
   "id": "c12df899",
   "metadata": {},
   "outputs": [
    {
     "data": {
      "text/plain": [
       "price             1.000000\n",
       "bathroom          0.456350\n",
       "BHK               0.397222\n",
       "balcony           0.104212\n",
       "total_sqft        0.048798\n",
       "price_per_sqft    0.028458\n",
       "Name: price, dtype: float64"
      ]
     },
     "execution_count": 18,
     "metadata": {},
     "output_type": "execute_result"
    }
   ],
   "source": [
    "housing['price_per_sqft'] = housing['price']*100000 / housing['total_sqft']\n",
    "corr_matrix = housing[['total_sqft', 'bathroom', 'balcony', 'BHK', 'price','price_per_sqft']].corr()\n",
    "corr_matrix['price'].sort_values(ascending=False)"
   ]
  },
  {
   "cell_type": "markdown",
   "id": "66a5bb15",
   "metadata": {},
   "source": [
    "By viewing the new correlation matrix we can say that price_per_sqft is a very good combination beacuse it show us very strong positive correlation"
   ]
  },
  {
   "cell_type": "markdown",
   "id": "94c914d8-d4af-442d-96a5-b57443ac5fdd",
   "metadata": {},
   "source": [
    "#### To increase accuracy of the model we can replace entries which have low count to a similiar entry say \"other\""
   ]
  },
  {
   "cell_type": "code",
   "execution_count": 19,
   "id": "39163401-d42b-4543-b1c9-c215b4ad5d32",
   "metadata": {},
   "outputs": [
    {
     "name": "stdout",
     "output_type": "stream",
     "text": [
      "1304\n"
     ]
    },
    {
     "data": {
      "text/plain": [
       "location\n",
       "Whitefield                     534\n",
       "Sarjapur  Road                 392\n",
       "Electronic City                302\n",
       "Kanakpura Road                 266\n",
       "Thanisandra                    233\n",
       "Yelahanka                      210\n",
       "Uttarahalli                    186\n",
       "Hebbal                         176\n",
       "Marathahalli                   175\n",
       "Raja Rajeshwari Nagar          171\n",
       "Bannerghatta Road              152\n",
       "Hennur Road                    150\n",
       "7th Phase JP Nagar             149\n",
       "Haralur Road                   141\n",
       "Electronic City Phase II       131\n",
       "Rajaji Nagar                   106\n",
       "Chandapura                      98\n",
       "Bellandur                       96\n",
       "KR Puram                        88\n",
       "Hoodi                           88\n",
       "Electronics City Phase 1        87\n",
       "Yeshwanthpur                    85\n",
       "Begur Road                      84\n",
       "Sarjapur                        81\n",
       "Kasavanhalli                    79\n",
       "Harlur                          79\n",
       "Banashankari                    74\n",
       "Hormavu                         74\n",
       "Ramamurthy Nagar                73\n",
       "Kengeri                         73\n",
       "Koramangala                     72\n",
       "Hosa Road                       72\n",
       "Old Madras Road                 70\n",
       "Varthur                         70\n",
       "Jakkur                          68\n",
       "JP Nagar                        67\n",
       "Kothanur                        66\n",
       "Kaggadasapura                   64\n",
       "Nagarbhavi                      63\n",
       "Akshaya Nagar                   62\n",
       "Thigalarapalya                  62\n",
       "TC Palaya                       60\n",
       "Malleshwaram                    57\n",
       "8th Phase JP Nagar              57\n",
       "Rachenahalli                    56\n",
       "Budigere                        54\n",
       "HSR Layout                      53\n",
       "Hennur                          52\n",
       "Hulimavu                        52\n",
       "Jigani                          52\n",
       "Jalahalli                       52\n",
       "Bisuvanahalli                   51\n",
       "Panathur                        51\n",
       "Ramagondanahalli                50\n",
       "Hegde Nagar                     49\n",
       "Gottigere                       48\n",
       "Bhoganhalli                     48\n",
       "Mysore Road                     48\n",
       "Brookefield                     47\n",
       "Kundalahalli                    47\n",
       "Hosur Road                      46\n",
       "Balagere                        45\n",
       "Indira Nagar                    44\n",
       "9th Phase JP Nagar              43\n",
       "Vidyaranyapura                  43\n",
       "Vittasandra                     43\n",
       "CV Raman Nagar                  43\n",
       "Subramanyapura                  43\n",
       "Attibele                        42\n",
       "Horamavu Agara                  42\n",
       "Kanakapura                      42\n",
       "Vijayanagar                     42\n",
       "Kadugodi                        42\n",
       "Yelahanka New Town              41\n",
       "Kengeri Satellite Town          40\n",
       "Talaghattapura                  40\n",
       "Devanahalli                     40\n",
       "Green Glen Layout               39\n",
       "5th Phase JP Nagar              39\n",
       "Sahakara Nagar                  39\n",
       "Channasandra                    38\n",
       "Kudlu Gate                      38\n",
       "Bommasandra                     37\n",
       "Frazer Town                     36\n",
       "Hosakerehalli                   36\n",
       "Lakshminarayana Pura            36\n",
       "R.T. Nagar                      36\n",
       "Anekal                          35\n",
       "Hebbal Kempapura                34\n",
       "Bommanahalli                    34\n",
       "Old Airport Road                33\n",
       "Tumkur Road                     33\n",
       "Kalena Agrahara                 33\n",
       "Mahadevpura                     31\n",
       "Basavangudi                     31\n",
       "Ambedkar Nagar                  31\n",
       "Doddathoguru                    30\n",
       "Kumaraswami Layout              30\n",
       "Ananth Nagar                    30\n",
       "Chikkalasandra                  30\n",
       "BTM 2nd Stage                   29\n",
       "Kudlu                           29\n",
       "Dodda Nekkundi                  29\n",
       "Kammasandra                     29\n",
       "Horamavu Banaswadi              28\n",
       "Somasundara Palya               28\n",
       "Padmanabhanagar                 28\n",
       "Anandapura                      27\n",
       "Singasandra                     27\n",
       "Ambalipura                      27\n",
       "Banashankari Stage III          27\n",
       "Kodichikkanahalli               27\n",
       "Kothannur                       26\n",
       "Choodasandra                    26\n",
       "Margondanahalli                 26\n",
       "Bommasandra Industrial Area     26\n",
       "Gubbalala                       26\n",
       "Iblur Village                   25\n",
       "Magadi Road                     25\n",
       "Babusapalaya                    25\n",
       "Kogilu                          25\n",
       "Seegehalli                      25\n",
       "1st Phase JP Nagar              25\n",
       "2nd Stage Nagarbhavi            24\n",
       "Ardendale                       24\n",
       "Amruthahalli                    24\n",
       "Abbigere                        24\n",
       "Kambipura                       24\n",
       "Munnekollal                     24\n",
       "Battarahalli                    24\n",
       "6th Phase JP Nagar              23\n",
       "EPIP Zone                       23\n",
       "Lingadheeranahalli              23\n",
       "Rayasandra                      22\n",
       "Kaval Byrasandra                22\n",
       "Thubarahalli                    22\n",
       "Domlur                          22\n",
       "Kathriguppe                     22\n",
       "Sonnenahalli                    22\n",
       "Gunjur                          22\n",
       "Hoskote                         21\n",
       "Ulsoor                          21\n",
       "Basaveshwara Nagar              21\n",
       "Binny Pete                      20\n",
       "HBR Layout                      20\n",
       "Poorna Pragna Layout            20\n",
       "Yelachenahalli                  20\n",
       "Sanjay nagar                    20\n",
       "Kaggalipura                     19\n",
       "Kalyan nagar                    19\n",
       "Pai Layout                      19\n",
       "OMBR Layout                     19\n",
       "HRBR Layout                     19\n",
       "Kannamangala                    18\n",
       "Billekahalli                    18\n",
       "Garudachar Palya                18\n",
       "Chikka Tirupathi                17\n",
       "BTM Layout                      17\n",
       "Kaikondrahalli                  17\n",
       "Bannerghatta                    17\n",
       "Dasarahalli                     17\n",
       "Sarjapura - Attibele Road       17\n",
       "Kammanahalli                    17\n",
       "Arekere                         17\n",
       "Malleshpalya                    17\n",
       "Nagavara                        17\n",
       "Sector 2 HSR Layout             16\n",
       "Begur                           16\n",
       "Judicial Layout                 16\n",
       "Parappana Agrahara              16\n",
       "Anjanapura                      16\n",
       "Kereguddadahalli                16\n",
       "Cooke Town                      16\n",
       "Mallasandra                     16\n",
       "Kenchenahalli                   16\n",
       "Dasanapura                      16\n",
       "Banashankari Stage II           16\n",
       "Banashankari Stage VI           16\n",
       "Kasturi Nagar                   16\n",
       "Banaswadi                       16\n",
       "Varthur Road                    15\n",
       "Chamrajpet                      15\n",
       "Nagavarapalya                   15\n",
       "Kodihalli                       15\n",
       "Benson Town                     15\n",
       "Sultan Palaya                   14\n",
       " Devarachikkanahalli            14\n",
       "Doddakallasandra                14\n",
       "Murugeshpalya                   14\n",
       "NGR Layout                      14\n",
       "Giri Nagar                      14\n",
       "1st Block Jayanagar             14\n",
       "NRI Layout                      14\n",
       "Jalahalli East                  14\n",
       "Sarakki Nagar                   14\n",
       "Rajiv Nagar                     13\n",
       "Shivaji Nagar                   13\n",
       "Chikkabanavar                   13\n",
       "Yelenahalli                     13\n",
       "Mahalakshmi Layout              13\n",
       "Name: location, dtype: int64"
      ]
     },
     "execution_count": 19,
     "metadata": {},
     "output_type": "execute_result"
    }
   ],
   "source": [
    "count_location = len(housing['location'].unique())\n",
    "print(count_location)\n",
    "pd.set_option('display.max_rows', count_location)\n",
    "Location_data = housing.groupby('location')['location'].agg('count').sort_values(ascending=False)\n",
    "Location_data.head(200)"
   ]
  },
  {
   "cell_type": "code",
   "execution_count": 20,
   "id": "f4a9dce9-ef98-4f6d-9351-a0b376dddeca",
   "metadata": {},
   "outputs": [
    {
     "data": {
      "text/plain": [
       "1124"
      ]
     },
     "execution_count": 20,
     "metadata": {},
     "output_type": "execute_result"
    }
   ],
   "source": [
    "filt = Location_data <= 15\n",
    "len(Location_data[filt])"
   ]
  },
  {
   "cell_type": "code",
   "execution_count": 21,
   "id": "1786d444-ceb1-4ae6-bb66-b7bea9d69817",
   "metadata": {},
   "outputs": [
    {
     "data": {
      "text/plain": [
       "location\n",
       "Varthur Road     15\n",
       "Chamrajpet       15\n",
       "Nagavarapalya    15\n",
       "Kodihalli        15\n",
       "Benson Town      15\n",
       "Name: location, dtype: int64"
      ]
     },
     "execution_count": 21,
     "metadata": {},
     "output_type": "execute_result"
    }
   ],
   "source": [
    "Location_data_less_than_15 = Location_data[filt]\n",
    "Location_data_less_than_15.head()"
   ]
  },
  {
   "cell_type": "code",
   "execution_count": 22,
   "id": "70f94121-26b5-4dbc-833a-275d6015233f",
   "metadata": {},
   "outputs": [
    {
     "data": {
      "text/plain": [
       "location\n",
       " Banaswadi             1\n",
       "Kanakadasa Layout      1\n",
       "Kanakapur main road    1\n",
       "Kanakapura  Rod        1\n",
       "whitefiled             1\n",
       "Name: location, dtype: int64"
      ]
     },
     "execution_count": 22,
     "metadata": {},
     "output_type": "execute_result"
    }
   ],
   "source": [
    "Location_data_less_than_15.tail()"
   ]
  },
  {
   "cell_type": "code",
   "execution_count": 23,
   "id": "4a6c9e6d-b3dd-492b-a26a-62dce0a66d8c",
   "metadata": {},
   "outputs": [
    {
     "name": "stdout",
     "output_type": "stream",
     "text": [
      "1304\n",
      "181\n"
     ]
    },
    {
     "data": {
      "text/html": [
       "<div>\n",
       "<style scoped>\n",
       "    .dataframe tbody tr th:only-of-type {\n",
       "        vertical-align: middle;\n",
       "    }\n",
       "\n",
       "    .dataframe tbody tr th {\n",
       "        vertical-align: top;\n",
       "    }\n",
       "\n",
       "    .dataframe thead th {\n",
       "        text-align: right;\n",
       "    }\n",
       "</style>\n",
       "<table border=\"1\" class=\"dataframe\">\n",
       "  <thead>\n",
       "    <tr style=\"text-align: right;\">\n",
       "      <th></th>\n",
       "      <th>area_type</th>\n",
       "      <th>location</th>\n",
       "      <th>total_sqft</th>\n",
       "      <th>bathroom</th>\n",
       "      <th>balcony</th>\n",
       "      <th>price</th>\n",
       "      <th>BHK</th>\n",
       "      <th>price_per_sqft</th>\n",
       "    </tr>\n",
       "  </thead>\n",
       "  <tbody>\n",
       "    <tr>\n",
       "      <th>0</th>\n",
       "      <td>Super built-up  Area</td>\n",
       "      <td>Electronic City Phase II</td>\n",
       "      <td>1056.0</td>\n",
       "      <td>2.0</td>\n",
       "      <td>1.000000</td>\n",
       "      <td>39.07</td>\n",
       "      <td>2</td>\n",
       "      <td>3699.810606</td>\n",
       "    </tr>\n",
       "    <tr>\n",
       "      <th>1</th>\n",
       "      <td>Plot  Area</td>\n",
       "      <td>Chikka Tirupathi</td>\n",
       "      <td>2600.0</td>\n",
       "      <td>5.0</td>\n",
       "      <td>3.000000</td>\n",
       "      <td>120.00</td>\n",
       "      <td>4</td>\n",
       "      <td>4615.384615</td>\n",
       "    </tr>\n",
       "    <tr>\n",
       "      <th>2</th>\n",
       "      <td>Built-up  Area</td>\n",
       "      <td>Uttarahalli</td>\n",
       "      <td>1440.0</td>\n",
       "      <td>2.0</td>\n",
       "      <td>3.000000</td>\n",
       "      <td>62.00</td>\n",
       "      <td>3</td>\n",
       "      <td>4305.555556</td>\n",
       "    </tr>\n",
       "    <tr>\n",
       "      <th>3</th>\n",
       "      <td>Super built-up  Area</td>\n",
       "      <td>Lingadheeranahalli</td>\n",
       "      <td>1521.0</td>\n",
       "      <td>3.0</td>\n",
       "      <td>1.000000</td>\n",
       "      <td>95.00</td>\n",
       "      <td>3</td>\n",
       "      <td>6245.890861</td>\n",
       "    </tr>\n",
       "    <tr>\n",
       "      <th>4</th>\n",
       "      <td>Super built-up  Area</td>\n",
       "      <td>Kothanur</td>\n",
       "      <td>1200.0</td>\n",
       "      <td>2.0</td>\n",
       "      <td>1.000000</td>\n",
       "      <td>51.00</td>\n",
       "      <td>2</td>\n",
       "      <td>4250.000000</td>\n",
       "    </tr>\n",
       "    <tr>\n",
       "      <th>5</th>\n",
       "      <td>Super built-up  Area</td>\n",
       "      <td>Whitefield</td>\n",
       "      <td>1170.0</td>\n",
       "      <td>2.0</td>\n",
       "      <td>1.000000</td>\n",
       "      <td>38.00</td>\n",
       "      <td>2</td>\n",
       "      <td>3247.863248</td>\n",
       "    </tr>\n",
       "    <tr>\n",
       "      <th>6</th>\n",
       "      <td>Super built-up  Area</td>\n",
       "      <td>Old Airport Road</td>\n",
       "      <td>2732.0</td>\n",
       "      <td>4.0</td>\n",
       "      <td>1.584343</td>\n",
       "      <td>204.00</td>\n",
       "      <td>4</td>\n",
       "      <td>7467.057101</td>\n",
       "    </tr>\n",
       "    <tr>\n",
       "      <th>7</th>\n",
       "      <td>Super built-up  Area</td>\n",
       "      <td>Rajaji Nagar</td>\n",
       "      <td>3300.0</td>\n",
       "      <td>4.0</td>\n",
       "      <td>1.584343</td>\n",
       "      <td>600.00</td>\n",
       "      <td>4</td>\n",
       "      <td>18181.818182</td>\n",
       "    </tr>\n",
       "    <tr>\n",
       "      <th>8</th>\n",
       "      <td>Super built-up  Area</td>\n",
       "      <td>Marathahalli</td>\n",
       "      <td>1310.0</td>\n",
       "      <td>3.0</td>\n",
       "      <td>1.000000</td>\n",
       "      <td>63.25</td>\n",
       "      <td>3</td>\n",
       "      <td>4828.244275</td>\n",
       "    </tr>\n",
       "    <tr>\n",
       "      <th>9</th>\n",
       "      <td>Plot  Area</td>\n",
       "      <td>Other</td>\n",
       "      <td>1020.0</td>\n",
       "      <td>6.0</td>\n",
       "      <td>1.584343</td>\n",
       "      <td>370.00</td>\n",
       "      <td>6</td>\n",
       "      <td>36274.509804</td>\n",
       "    </tr>\n",
       "  </tbody>\n",
       "</table>\n",
       "</div>"
      ],
      "text/plain": [
       "              area_type                  location  total_sqft  bathroom  \\\n",
       "0  Super built-up  Area  Electronic City Phase II      1056.0       2.0   \n",
       "1            Plot  Area          Chikka Tirupathi      2600.0       5.0   \n",
       "2        Built-up  Area               Uttarahalli      1440.0       2.0   \n",
       "3  Super built-up  Area        Lingadheeranahalli      1521.0       3.0   \n",
       "4  Super built-up  Area                  Kothanur      1200.0       2.0   \n",
       "5  Super built-up  Area                Whitefield      1170.0       2.0   \n",
       "6  Super built-up  Area          Old Airport Road      2732.0       4.0   \n",
       "7  Super built-up  Area              Rajaji Nagar      3300.0       4.0   \n",
       "8  Super built-up  Area              Marathahalli      1310.0       3.0   \n",
       "9            Plot  Area                     Other      1020.0       6.0   \n",
       "\n",
       "    balcony   price  BHK  price_per_sqft  \n",
       "0  1.000000   39.07    2     3699.810606  \n",
       "1  3.000000  120.00    4     4615.384615  \n",
       "2  3.000000   62.00    3     4305.555556  \n",
       "3  1.000000   95.00    3     6245.890861  \n",
       "4  1.000000   51.00    2     4250.000000  \n",
       "5  1.000000   38.00    2     3247.863248  \n",
       "6  1.584343  204.00    4     7467.057101  \n",
       "7  1.584343  600.00    4    18181.818182  \n",
       "8  1.000000   63.25    3     4828.244275  \n",
       "9  1.584343  370.00    6    36274.509804  "
      ]
     },
     "execution_count": 23,
     "metadata": {},
     "output_type": "execute_result"
    }
   ],
   "source": [
    "housing['location'] = housing['location'].apply(lambda x: 'Other' if x in Location_data_less_than_15 else x)\n",
    "print(count_location)\n",
    "count_location_dimen_red = len(housing['location'].unique())\n",
    "print(count_location_dimen_red)\n",
    "housing.head(10)"
   ]
  },
  {
   "cell_type": "markdown",
   "id": "6abab4e8-3047-464e-b101-a0d10f01ef89",
   "metadata": {},
   "source": [
    "# Outlier Detection and Removal"
   ]
  },
  {
   "cell_type": "markdown",
   "id": "e2fd6789",
   "metadata": {},
   "source": [
    "#### An outlier is an observation in a given dataset that lies far from the rest of the observations. That means an outlier is vastly larger or smaller than the remaining values in the set.\n",
    "\n",
    "### Techniques for detecting outliers\n",
    "#### 1. Boxplots (used in this model)\n",
    "#### 2. Z-score\n",
    "#### 3. Inter Quantile Range(IQR)\n",
    "\n",
    "### Techniques for removing outliers\n",
    "#### 1. Trimming/removing the outlier\n",
    "#### 2. Quantile based flooring and capping(used in this model)\n",
    "#### 3. Mean/Median imputation(used in this model)"
   ]
  },
  {
   "cell_type": "code",
   "execution_count": 24,
   "id": "80776be5-e1cc-4326-a4e1-c5bca537ff72",
   "metadata": {},
   "outputs": [
    {
     "data": {
      "text/html": [
       "<div>\n",
       "<style scoped>\n",
       "    .dataframe tbody tr th:only-of-type {\n",
       "        vertical-align: middle;\n",
       "    }\n",
       "\n",
       "    .dataframe tbody tr th {\n",
       "        vertical-align: top;\n",
       "    }\n",
       "\n",
       "    .dataframe thead th {\n",
       "        text-align: right;\n",
       "    }\n",
       "</style>\n",
       "<table border=\"1\" class=\"dataframe\">\n",
       "  <thead>\n",
       "    <tr style=\"text-align: right;\">\n",
       "      <th></th>\n",
       "      <th>total_sqft</th>\n",
       "      <th>bathroom</th>\n",
       "      <th>balcony</th>\n",
       "      <th>price</th>\n",
       "      <th>BHK</th>\n",
       "      <th>price_per_sqft</th>\n",
       "    </tr>\n",
       "  </thead>\n",
       "  <tbody>\n",
       "    <tr>\n",
       "      <th>0</th>\n",
       "      <td>1056.0</td>\n",
       "      <td>2.0</td>\n",
       "      <td>1.000000</td>\n",
       "      <td>39.07</td>\n",
       "      <td>2</td>\n",
       "      <td>3699.810606</td>\n",
       "    </tr>\n",
       "    <tr>\n",
       "      <th>1</th>\n",
       "      <td>2600.0</td>\n",
       "      <td>5.0</td>\n",
       "      <td>3.000000</td>\n",
       "      <td>120.00</td>\n",
       "      <td>4</td>\n",
       "      <td>4615.384615</td>\n",
       "    </tr>\n",
       "    <tr>\n",
       "      <th>2</th>\n",
       "      <td>1440.0</td>\n",
       "      <td>2.0</td>\n",
       "      <td>3.000000</td>\n",
       "      <td>62.00</td>\n",
       "      <td>3</td>\n",
       "      <td>4305.555556</td>\n",
       "    </tr>\n",
       "    <tr>\n",
       "      <th>3</th>\n",
       "      <td>1521.0</td>\n",
       "      <td>3.0</td>\n",
       "      <td>1.000000</td>\n",
       "      <td>95.00</td>\n",
       "      <td>3</td>\n",
       "      <td>6245.890861</td>\n",
       "    </tr>\n",
       "    <tr>\n",
       "      <th>4</th>\n",
       "      <td>1200.0</td>\n",
       "      <td>2.0</td>\n",
       "      <td>1.000000</td>\n",
       "      <td>51.00</td>\n",
       "      <td>2</td>\n",
       "      <td>4250.000000</td>\n",
       "    </tr>\n",
       "    <tr>\n",
       "      <th>5</th>\n",
       "      <td>1170.0</td>\n",
       "      <td>2.0</td>\n",
       "      <td>1.000000</td>\n",
       "      <td>38.00</td>\n",
       "      <td>2</td>\n",
       "      <td>3247.863248</td>\n",
       "    </tr>\n",
       "    <tr>\n",
       "      <th>6</th>\n",
       "      <td>2732.0</td>\n",
       "      <td>4.0</td>\n",
       "      <td>1.584343</td>\n",
       "      <td>204.00</td>\n",
       "      <td>4</td>\n",
       "      <td>7467.057101</td>\n",
       "    </tr>\n",
       "    <tr>\n",
       "      <th>7</th>\n",
       "      <td>3300.0</td>\n",
       "      <td>4.0</td>\n",
       "      <td>1.584343</td>\n",
       "      <td>600.00</td>\n",
       "      <td>4</td>\n",
       "      <td>18181.818182</td>\n",
       "    </tr>\n",
       "    <tr>\n",
       "      <th>8</th>\n",
       "      <td>1310.0</td>\n",
       "      <td>3.0</td>\n",
       "      <td>1.000000</td>\n",
       "      <td>63.25</td>\n",
       "      <td>3</td>\n",
       "      <td>4828.244275</td>\n",
       "    </tr>\n",
       "    <tr>\n",
       "      <th>9</th>\n",
       "      <td>1020.0</td>\n",
       "      <td>6.0</td>\n",
       "      <td>1.584343</td>\n",
       "      <td>370.00</td>\n",
       "      <td>6</td>\n",
       "      <td>36274.509804</td>\n",
       "    </tr>\n",
       "  </tbody>\n",
       "</table>\n",
       "</div>"
      ],
      "text/plain": [
       "   total_sqft  bathroom   balcony   price  BHK  price_per_sqft\n",
       "0      1056.0       2.0  1.000000   39.07    2     3699.810606\n",
       "1      2600.0       5.0  3.000000  120.00    4     4615.384615\n",
       "2      1440.0       2.0  3.000000   62.00    3     4305.555556\n",
       "3      1521.0       3.0  1.000000   95.00    3     6245.890861\n",
       "4      1200.0       2.0  1.000000   51.00    2     4250.000000\n",
       "5      1170.0       2.0  1.000000   38.00    2     3247.863248\n",
       "6      2732.0       4.0  1.584343  204.00    4     7467.057101\n",
       "7      3300.0       4.0  1.584343  600.00    4    18181.818182\n",
       "8      1310.0       3.0  1.000000   63.25    3     4828.244275\n",
       "9      1020.0       6.0  1.584343  370.00    6    36274.509804"
      ]
     },
     "execution_count": 24,
     "metadata": {},
     "output_type": "execute_result"
    }
   ],
   "source": [
    "housing_numeric = housing.select_dtypes(include=np.number)\n",
    "housing_numeric.head(10)"
   ]
  },
  {
   "cell_type": "code",
   "execution_count": 25,
   "id": "f2148c2c-0b46-4c74-ac77-00da2f91d269",
   "metadata": {},
   "outputs": [
    {
     "data": {
      "text/html": [
       "<div>\n",
       "<style scoped>\n",
       "    .dataframe tbody tr th:only-of-type {\n",
       "        vertical-align: middle;\n",
       "    }\n",
       "\n",
       "    .dataframe tbody tr th {\n",
       "        vertical-align: top;\n",
       "    }\n",
       "\n",
       "    .dataframe thead th {\n",
       "        text-align: right;\n",
       "    }\n",
       "</style>\n",
       "<table border=\"1\" class=\"dataframe\">\n",
       "  <thead>\n",
       "    <tr style=\"text-align: right;\">\n",
       "      <th></th>\n",
       "      <th>area_type</th>\n",
       "      <th>location</th>\n",
       "      <th>total_sqft</th>\n",
       "      <th>bathroom</th>\n",
       "      <th>balcony</th>\n",
       "      <th>price</th>\n",
       "      <th>BHK</th>\n",
       "      <th>price_per_sqft</th>\n",
       "    </tr>\n",
       "  </thead>\n",
       "  <tbody>\n",
       "    <tr>\n",
       "      <th>0</th>\n",
       "      <td>Super built-up  Area</td>\n",
       "      <td>Electronic City Phase II</td>\n",
       "      <td>1056.0</td>\n",
       "      <td>2.0</td>\n",
       "      <td>1.000000</td>\n",
       "      <td>39.07</td>\n",
       "      <td>2</td>\n",
       "      <td>3699.810606</td>\n",
       "    </tr>\n",
       "    <tr>\n",
       "      <th>1</th>\n",
       "      <td>Plot  Area</td>\n",
       "      <td>Chikka Tirupathi</td>\n",
       "      <td>2600.0</td>\n",
       "      <td>5.0</td>\n",
       "      <td>3.000000</td>\n",
       "      <td>120.00</td>\n",
       "      <td>4</td>\n",
       "      <td>4615.384615</td>\n",
       "    </tr>\n",
       "    <tr>\n",
       "      <th>2</th>\n",
       "      <td>Built-up  Area</td>\n",
       "      <td>Uttarahalli</td>\n",
       "      <td>1440.0</td>\n",
       "      <td>2.0</td>\n",
       "      <td>3.000000</td>\n",
       "      <td>62.00</td>\n",
       "      <td>3</td>\n",
       "      <td>4305.555556</td>\n",
       "    </tr>\n",
       "    <tr>\n",
       "      <th>3</th>\n",
       "      <td>Super built-up  Area</td>\n",
       "      <td>Lingadheeranahalli</td>\n",
       "      <td>1521.0</td>\n",
       "      <td>3.0</td>\n",
       "      <td>1.000000</td>\n",
       "      <td>95.00</td>\n",
       "      <td>3</td>\n",
       "      <td>6245.890861</td>\n",
       "    </tr>\n",
       "    <tr>\n",
       "      <th>4</th>\n",
       "      <td>Super built-up  Area</td>\n",
       "      <td>Kothanur</td>\n",
       "      <td>1200.0</td>\n",
       "      <td>2.0</td>\n",
       "      <td>1.000000</td>\n",
       "      <td>51.00</td>\n",
       "      <td>2</td>\n",
       "      <td>4250.000000</td>\n",
       "    </tr>\n",
       "    <tr>\n",
       "      <th>5</th>\n",
       "      <td>Super built-up  Area</td>\n",
       "      <td>Whitefield</td>\n",
       "      <td>1170.0</td>\n",
       "      <td>2.0</td>\n",
       "      <td>1.000000</td>\n",
       "      <td>38.00</td>\n",
       "      <td>2</td>\n",
       "      <td>3247.863248</td>\n",
       "    </tr>\n",
       "    <tr>\n",
       "      <th>6</th>\n",
       "      <td>Super built-up  Area</td>\n",
       "      <td>Old Airport Road</td>\n",
       "      <td>2732.0</td>\n",
       "      <td>4.0</td>\n",
       "      <td>1.584343</td>\n",
       "      <td>204.00</td>\n",
       "      <td>4</td>\n",
       "      <td>7467.057101</td>\n",
       "    </tr>\n",
       "    <tr>\n",
       "      <th>7</th>\n",
       "      <td>Super built-up  Area</td>\n",
       "      <td>Rajaji Nagar</td>\n",
       "      <td>3300.0</td>\n",
       "      <td>4.0</td>\n",
       "      <td>1.584343</td>\n",
       "      <td>600.00</td>\n",
       "      <td>4</td>\n",
       "      <td>18181.818182</td>\n",
       "    </tr>\n",
       "    <tr>\n",
       "      <th>8</th>\n",
       "      <td>Super built-up  Area</td>\n",
       "      <td>Marathahalli</td>\n",
       "      <td>1310.0</td>\n",
       "      <td>3.0</td>\n",
       "      <td>1.000000</td>\n",
       "      <td>63.25</td>\n",
       "      <td>3</td>\n",
       "      <td>4828.244275</td>\n",
       "    </tr>\n",
       "    <tr>\n",
       "      <th>9</th>\n",
       "      <td>Plot  Area</td>\n",
       "      <td>Other</td>\n",
       "      <td>1020.0</td>\n",
       "      <td>6.0</td>\n",
       "      <td>1.584343</td>\n",
       "      <td>370.00</td>\n",
       "      <td>6</td>\n",
       "      <td>36274.509804</td>\n",
       "    </tr>\n",
       "  </tbody>\n",
       "</table>\n",
       "</div>"
      ],
      "text/plain": [
       "              area_type                  location  total_sqft  bathroom  \\\n",
       "0  Super built-up  Area  Electronic City Phase II      1056.0       2.0   \n",
       "1            Plot  Area          Chikka Tirupathi      2600.0       5.0   \n",
       "2        Built-up  Area               Uttarahalli      1440.0       2.0   \n",
       "3  Super built-up  Area        Lingadheeranahalli      1521.0       3.0   \n",
       "4  Super built-up  Area                  Kothanur      1200.0       2.0   \n",
       "5  Super built-up  Area                Whitefield      1170.0       2.0   \n",
       "6  Super built-up  Area          Old Airport Road      2732.0       4.0   \n",
       "7  Super built-up  Area              Rajaji Nagar      3300.0       4.0   \n",
       "8  Super built-up  Area              Marathahalli      1310.0       3.0   \n",
       "9            Plot  Area                     Other      1020.0       6.0   \n",
       "\n",
       "    balcony   price  BHK  price_per_sqft  \n",
       "0  1.000000   39.07    2     3699.810606  \n",
       "1  3.000000  120.00    4     4615.384615  \n",
       "2  3.000000   62.00    3     4305.555556  \n",
       "3  1.000000   95.00    3     6245.890861  \n",
       "4  1.000000   51.00    2     4250.000000  \n",
       "5  1.000000   38.00    2     3247.863248  \n",
       "6  1.584343  204.00    4     7467.057101  \n",
       "7  1.584343  600.00    4    18181.818182  \n",
       "8  1.000000   63.25    3     4828.244275  \n",
       "9  1.584343  370.00    6    36274.509804  "
      ]
     },
     "execution_count": 25,
     "metadata": {},
     "output_type": "execute_result"
    }
   ],
   "source": [
    "housing.head(10)"
   ]
  },
  {
   "cell_type": "code",
   "execution_count": 26,
   "id": "e28997a0-8363-4421-b64e-231c86275353",
   "metadata": {},
   "outputs": [
    {
     "data": {
      "image/png": "[encoded data removed]",
      "text/plain": [
       "<Figure size 1440x720 with 1 Axes>"
      ]
     },
     "metadata": {
      "needs_background": "light"
     },
     "output_type": "display_data"
    },
    {
     "data": {
      "image/png": "[encoded data removed]",
      "text/plain": [
       "<Figure size 1440x720 with 1 Axes>"
      ]
     },
     "metadata": {
      "needs_background": "light"
     },
     "output_type": "display_data"
    },
    {
     "data": {
      "image/png": "[encoded data removed]",
      "text/plain": [
       "<Figure size 1440x720 with 1 Axes>"
      ]
     },
     "metadata": {
      "needs_background": "light"
     },
     "output_type": "display_data"
    },
    {
     "data": {
      "image/png": "[encoded data removed]",
      "text/plain": [
       "<Figure size 1440x720 with 1 Axes>"
      ]
     },
     "metadata": {
      "needs_background": "light"
     },
     "output_type": "display_data"
    },
    {
     "data": {
      "image/png": "[encoded data removed]",
      "text/plain": [
       "<Figure size 1440x720 with 1 Axes>"
      ]
     },
     "metadata": {
      "needs_background": "light"
     },
     "output_type": "display_data"
    },
    {
     "data": {
      "image/png": "[encoded data removed]",
      "text/plain": [
       "<Figure size 1440x720 with 1 Axes>"
      ]
     },
     "metadata": {
      "needs_background": "light"
     },
     "output_type": "display_data"
    }
   ],
   "source": [
    "for i in housing_numeric.columns:\n",
    "    sns.boxplot(x=i, data=housing_numeric)\n",
    "    plt.title(i)\n",
    "    plt.show()"
   ]
  },
  {
   "cell_type": "markdown",
   "id": "81b34b55-d975-45f5-b389-1b597c4d1ccb",
   "metadata": {},
   "source": [
    "##### Outliers are present in total_sqft, bathroom, price, BHK and price_per_sqft"
   ]
  },
  {
   "cell_type": "markdown",
   "id": "f8d41327-25f2-4a37-8f81-b573de33c277",
   "metadata": {},
   "source": [
    "#### total_sqft "
   ]
  },
  {
   "cell_type": "code",
   "execution_count": 27,
   "id": "317c2e2c-26f8-43a1-92c2-3ad106296280",
   "metadata": {},
   "outputs": [
    {
     "data": {
      "text/plain": [
       "count    1.324600e+04\n",
       "mean     1.909248e+03\n",
       "std      1.732468e+04\n",
       "min      1.000000e+00\n",
       "25%      1.100000e+03\n",
       "50%      1.275000e+03\n",
       "75%      1.678750e+03\n",
       "max      1.306801e+06\n",
       "Name: total_sqft, dtype: float64"
      ]
     },
     "execution_count": 27,
     "metadata": {},
     "output_type": "execute_result"
    }
   ],
   "source": [
    "housing['total_sqft'].describe()"
   ]
  },
  {
   "cell_type": "code",
   "execution_count": 28,
   "id": "8cd40fb8-e0af-440a-9534-8fe833979a81",
   "metadata": {},
   "outputs": [],
   "source": [
    "tenth_percentile = housing['total_sqft'].quantile(0.10)\n",
    "ninetieth_percentile = housing['total_sqft'].quantile(0.90)\n",
    "housing['total_sqft'] = np.where(housing['total_sqft'] < tenth_percentile, tenth_percentile, housing['total_sqft'])\n",
    "housing['total_sqft'] = np.where(housing['total_sqft'] > ninetieth_percentile, ninetieth_percentile, housing['total_sqft'])"
   ]
  },
  {
   "cell_type": "code",
   "execution_count": 29,
   "id": "1c006ed6-5772-4635-84bd-753c84d80a3a",
   "metadata": {},
   "outputs": [
    {
     "data": {
      "text/plain": [
       "count    13246.000000\n",
       "mean      1438.315056\n",
       "std        467.922813\n",
       "min        900.000000\n",
       "25%       1100.000000\n",
       "50%       1275.000000\n",
       "75%       1678.750000\n",
       "max       2408.500000\n",
       "Name: total_sqft, dtype: float64"
      ]
     },
     "execution_count": 29,
     "metadata": {},
     "output_type": "execute_result"
    }
   ],
   "source": [
    "housing['total_sqft'].describe()"
   ]
  },
  {
   "cell_type": "markdown",
   "id": "0ee63d71-5f6c-422b-a8a8-56652ea27d75",
   "metadata": {},
   "source": [
    "#### bathroom"
   ]
  },
  {
   "cell_type": "code",
   "execution_count": 30,
   "id": "db53c3e2-522a-48ee-b064-86c5dae149c3",
   "metadata": {},
   "outputs": [
    {
     "data": {
      "text/plain": [
       "count    13246.000000\n",
       "mean         2.692586\n",
       "std          1.341506\n",
       "min          1.000000\n",
       "25%          2.000000\n",
       "50%          2.000000\n",
       "75%          3.000000\n",
       "max         40.000000\n",
       "Name: bathroom, dtype: float64"
      ]
     },
     "execution_count": 30,
     "metadata": {},
     "output_type": "execute_result"
    }
   ],
   "source": [
    "housing['bathroom'].describe()"
   ]
  },
  {
   "cell_type": "code",
   "execution_count": 31,
   "id": "a84622ba-f5af-4357-aaf2-e449c6c4fb1b",
   "metadata": {},
   "outputs": [],
   "source": [
    "median = housing['bathroom'].quantile(0.50)\n",
    "upper_out = housing['bathroom'].quantile(0.95)\n",
    "housing['bathroom'] = np.where(housing['bathroom'] > upper_out, median, housing['bathroom'])"
   ]
  },
  {
   "cell_type": "code",
   "execution_count": 32,
   "id": "def22797-e709-4774-9061-d9921145d9ab",
   "metadata": {},
   "outputs": [
    {
     "data": {
      "text/plain": [
       "count    13246.000000\n",
       "mean         2.492300\n",
       "std          0.889633\n",
       "min          1.000000\n",
       "25%          2.000000\n",
       "50%          2.000000\n",
       "75%          3.000000\n",
       "max          5.000000\n",
       "Name: bathroom, dtype: float64"
      ]
     },
     "execution_count": 32,
     "metadata": {},
     "output_type": "execute_result"
    }
   ],
   "source": [
    "housing['bathroom'].describe()"
   ]
  },
  {
   "cell_type": "markdown",
   "id": "df338bbc-21f9-4c22-a159-50139992fd99",
   "metadata": {},
   "source": [
    "#### price"
   ]
  },
  {
   "cell_type": "code",
   "execution_count": 33,
   "id": "77ae84a6-69f8-49b3-98f7-88b1a0865e13",
   "metadata": {},
   "outputs": [
    {
     "data": {
      "text/plain": [
       "count    13246.000000\n",
       "mean       112.389392\n",
       "std        149.076587\n",
       "min          8.000000\n",
       "25%         50.000000\n",
       "50%         72.000000\n",
       "75%        120.000000\n",
       "max       3600.000000\n",
       "Name: price, dtype: float64"
      ]
     },
     "execution_count": 33,
     "metadata": {},
     "output_type": "execute_result"
    }
   ],
   "source": [
    "housing['price'].describe()"
   ]
  },
  {
   "cell_type": "code",
   "execution_count": 34,
   "id": "7b9c91be-a7a5-438c-9d40-d84f0566e6e0",
   "metadata": {},
   "outputs": [],
   "source": [
    "tenth_percentile = housing['price'].quantile(0.10)\n",
    "ninetieth_percentile = housing['price'].quantile(0.90)\n",
    "housing['price'] = np.where(housing['price'] < tenth_percentile, tenth_percentile, housing['price'])\n",
    "housing['price'] = np.where(housing['price'] > ninetieth_percentile, ninetieth_percentile, housing['price'])"
   ]
  },
  {
   "cell_type": "code",
   "execution_count": 35,
   "id": "7e76f3fc-6654-42f1-aa7c-1cb67a4c543f",
   "metadata": {},
   "outputs": [
    {
     "data": {
      "text/plain": [
       "count    13246.000000\n",
       "mean        93.541210\n",
       "std         57.585644\n",
       "min         38.000000\n",
       "25%         50.000000\n",
       "50%         72.000000\n",
       "75%        120.000000\n",
       "max        220.000000\n",
       "Name: price, dtype: float64"
      ]
     },
     "execution_count": 35,
     "metadata": {},
     "output_type": "execute_result"
    }
   ],
   "source": [
    "housing['price'].describe()"
   ]
  },
  {
   "cell_type": "markdown",
   "id": "29636121-5e27-420c-91b5-1a8f2b8c3b27",
   "metadata": {},
   "source": [
    "#### BHK"
   ]
  },
  {
   "cell_type": "code",
   "execution_count": 36,
   "id": "08e65e60-a932-4d7f-9905-870152c9bbe5",
   "metadata": {},
   "outputs": [
    {
     "data": {
      "text/plain": [
       "count    13246.000000\n",
       "mean         2.801902\n",
       "std          1.295758\n",
       "min          1.000000\n",
       "25%          2.000000\n",
       "50%          3.000000\n",
       "75%          3.000000\n",
       "max         43.000000\n",
       "Name: BHK, dtype: float64"
      ]
     },
     "execution_count": 36,
     "metadata": {},
     "output_type": "execute_result"
    }
   ],
   "source": [
    "housing['BHK'].describe()"
   ]
  },
  {
   "cell_type": "code",
   "execution_count": 37,
   "id": "9c3c62a3-de07-44b5-8e5a-440c5d49a618",
   "metadata": {},
   "outputs": [],
   "source": [
    "median = housing['BHK'].quantile(0.50)\n",
    "upper_out = housing['BHK'].quantile(0.98)\n",
    "housing['BHK'] = np.where(housing['BHK'] > upper_out, median, housing['BHK'])"
   ]
  },
  {
   "cell_type": "code",
   "execution_count": 38,
   "id": "c5505ad0-c80b-4cdd-9a95-aca34fc74c25",
   "metadata": {},
   "outputs": [
    {
     "data": {
      "text/plain": [
       "count    13246.000000\n",
       "mean         2.723615\n",
       "std          1.009848\n",
       "min          1.000000\n",
       "25%          2.000000\n",
       "50%          3.000000\n",
       "75%          3.000000\n",
       "max          7.000000\n",
       "Name: BHK, dtype: float64"
      ]
     },
     "execution_count": 38,
     "metadata": {},
     "output_type": "execute_result"
    }
   ],
   "source": [
    "housing['BHK'].describe()"
   ]
  },
  {
   "cell_type": "code",
   "execution_count": 39,
   "id": "c6b2d535-df08-4584-bb4b-36db5f8d10c6",
   "metadata": {},
   "outputs": [
    {
     "data": {
      "text/html": [
       "<div>\n",
       "<style scoped>\n",
       "    .dataframe tbody tr th:only-of-type {\n",
       "        vertical-align: middle;\n",
       "    }\n",
       "\n",
       "    .dataframe tbody tr th {\n",
       "        vertical-align: top;\n",
       "    }\n",
       "\n",
       "    .dataframe thead th {\n",
       "        text-align: right;\n",
       "    }\n",
       "</style>\n",
       "<table border=\"1\" class=\"dataframe\">\n",
       "  <thead>\n",
       "    <tr style=\"text-align: right;\">\n",
       "      <th></th>\n",
       "      <th>area_type</th>\n",
       "      <th>location</th>\n",
       "      <th>total_sqft</th>\n",
       "      <th>bathroom</th>\n",
       "      <th>balcony</th>\n",
       "      <th>price</th>\n",
       "      <th>BHK</th>\n",
       "      <th>price_per_sqft</th>\n",
       "    </tr>\n",
       "  </thead>\n",
       "  <tbody>\n",
       "    <tr>\n",
       "      <th>0</th>\n",
       "      <td>Super built-up  Area</td>\n",
       "      <td>Electronic City Phase II</td>\n",
       "      <td>1056.0</td>\n",
       "      <td>2.0</td>\n",
       "      <td>1.000000</td>\n",
       "      <td>39.07</td>\n",
       "      <td>2.0</td>\n",
       "      <td>3699.810606</td>\n",
       "    </tr>\n",
       "    <tr>\n",
       "      <th>1</th>\n",
       "      <td>Plot  Area</td>\n",
       "      <td>Chikka Tirupathi</td>\n",
       "      <td>2408.5</td>\n",
       "      <td>5.0</td>\n",
       "      <td>3.000000</td>\n",
       "      <td>120.00</td>\n",
       "      <td>4.0</td>\n",
       "      <td>4615.384615</td>\n",
       "    </tr>\n",
       "    <tr>\n",
       "      <th>2</th>\n",
       "      <td>Built-up  Area</td>\n",
       "      <td>Uttarahalli</td>\n",
       "      <td>1440.0</td>\n",
       "      <td>2.0</td>\n",
       "      <td>3.000000</td>\n",
       "      <td>62.00</td>\n",
       "      <td>3.0</td>\n",
       "      <td>4305.555556</td>\n",
       "    </tr>\n",
       "    <tr>\n",
       "      <th>3</th>\n",
       "      <td>Super built-up  Area</td>\n",
       "      <td>Lingadheeranahalli</td>\n",
       "      <td>1521.0</td>\n",
       "      <td>3.0</td>\n",
       "      <td>1.000000</td>\n",
       "      <td>95.00</td>\n",
       "      <td>3.0</td>\n",
       "      <td>6245.890861</td>\n",
       "    </tr>\n",
       "    <tr>\n",
       "      <th>4</th>\n",
       "      <td>Super built-up  Area</td>\n",
       "      <td>Kothanur</td>\n",
       "      <td>1200.0</td>\n",
       "      <td>2.0</td>\n",
       "      <td>1.000000</td>\n",
       "      <td>51.00</td>\n",
       "      <td>2.0</td>\n",
       "      <td>4250.000000</td>\n",
       "    </tr>\n",
       "    <tr>\n",
       "      <th>5</th>\n",
       "      <td>Super built-up  Area</td>\n",
       "      <td>Whitefield</td>\n",
       "      <td>1170.0</td>\n",
       "      <td>2.0</td>\n",
       "      <td>1.000000</td>\n",
       "      <td>38.00</td>\n",
       "      <td>2.0</td>\n",
       "      <td>3247.863248</td>\n",
       "    </tr>\n",
       "    <tr>\n",
       "      <th>6</th>\n",
       "      <td>Super built-up  Area</td>\n",
       "      <td>Old Airport Road</td>\n",
       "      <td>2408.5</td>\n",
       "      <td>4.0</td>\n",
       "      <td>1.584343</td>\n",
       "      <td>204.00</td>\n",
       "      <td>4.0</td>\n",
       "      <td>7467.057101</td>\n",
       "    </tr>\n",
       "    <tr>\n",
       "      <th>7</th>\n",
       "      <td>Super built-up  Area</td>\n",
       "      <td>Rajaji Nagar</td>\n",
       "      <td>2408.5</td>\n",
       "      <td>4.0</td>\n",
       "      <td>1.584343</td>\n",
       "      <td>220.00</td>\n",
       "      <td>4.0</td>\n",
       "      <td>18181.818182</td>\n",
       "    </tr>\n",
       "    <tr>\n",
       "      <th>8</th>\n",
       "      <td>Super built-up  Area</td>\n",
       "      <td>Marathahalli</td>\n",
       "      <td>1310.0</td>\n",
       "      <td>3.0</td>\n",
       "      <td>1.000000</td>\n",
       "      <td>63.25</td>\n",
       "      <td>3.0</td>\n",
       "      <td>4828.244275</td>\n",
       "    </tr>\n",
       "    <tr>\n",
       "      <th>9</th>\n",
       "      <td>Plot  Area</td>\n",
       "      <td>Other</td>\n",
       "      <td>1020.0</td>\n",
       "      <td>2.0</td>\n",
       "      <td>1.584343</td>\n",
       "      <td>220.00</td>\n",
       "      <td>6.0</td>\n",
       "      <td>36274.509804</td>\n",
       "    </tr>\n",
       "  </tbody>\n",
       "</table>\n",
       "</div>"
      ],
      "text/plain": [
       "              area_type                  location  total_sqft  bathroom  \\\n",
       "0  Super built-up  Area  Electronic City Phase II      1056.0       2.0   \n",
       "1            Plot  Area          Chikka Tirupathi      2408.5       5.0   \n",
       "2        Built-up  Area               Uttarahalli      1440.0       2.0   \n",
       "3  Super built-up  Area        Lingadheeranahalli      1521.0       3.0   \n",
       "4  Super built-up  Area                  Kothanur      1200.0       2.0   \n",
       "5  Super built-up  Area                Whitefield      1170.0       2.0   \n",
       "6  Super built-up  Area          Old Airport Road      2408.5       4.0   \n",
       "7  Super built-up  Area              Rajaji Nagar      2408.5       4.0   \n",
       "8  Super built-up  Area              Marathahalli      1310.0       3.0   \n",
       "9            Plot  Area                     Other      1020.0       2.0   \n",
       "\n",
       "    balcony   price  BHK  price_per_sqft  \n",
       "0  1.000000   39.07  2.0     3699.810606  \n",
       "1  3.000000  120.00  4.0     4615.384615  \n",
       "2  3.000000   62.00  3.0     4305.555556  \n",
       "3  1.000000   95.00  3.0     6245.890861  \n",
       "4  1.000000   51.00  2.0     4250.000000  \n",
       "5  1.000000   38.00  2.0     3247.863248  \n",
       "6  1.584343  204.00  4.0     7467.057101  \n",
       "7  1.584343  220.00  4.0    18181.818182  \n",
       "8  1.000000   63.25  3.0     4828.244275  \n",
       "9  1.584343  220.00  6.0    36274.509804  "
      ]
     },
     "execution_count": 39,
     "metadata": {},
     "output_type": "execute_result"
    }
   ],
   "source": [
    "housing.head(10)"
   ]
  },
  {
   "cell_type": "markdown",
   "id": "0a02d7dd-62c0-4418-867a-06b04d7cdbb3",
   "metadata": {},
   "source": [
    "##### price_per_sqft"
   ]
  },
  {
   "cell_type": "code",
   "execution_count": 40,
   "id": "d14d6920-133e-428e-b5b3-5c4db40d2566",
   "metadata": {},
   "outputs": [
    {
     "data": {
      "text/plain": [
       "count    1.324600e+04\n",
       "mean     7.915284e+03\n",
       "std      1.065452e+05\n",
       "min      2.257421e+00\n",
       "25%      4.262295e+03\n",
       "50%      5.433101e+03\n",
       "75%      7.317073e+03\n",
       "max      1.200000e+07\n",
       "Name: price_per_sqft, dtype: float64"
      ]
     },
     "execution_count": 40,
     "metadata": {},
     "output_type": "execute_result"
    }
   ],
   "source": [
    "housing['price_per_sqft'].describe()"
   ]
  },
  {
   "cell_type": "code",
   "execution_count": 41,
   "id": "e13b1829-8640-4dd2-a32c-d5e110470439",
   "metadata": {},
   "outputs": [],
   "source": [
    "tenth_percentile = housing['price_per_sqft'].quantile(0.10)\n",
    "ninetieth_percentile = housing['price_per_sqft'].quantile(0.90)\n",
    "housing['price_per_sqft'] = np.where(housing['price_per_sqft'] < tenth_percentile, tenth_percentile, housing['price_per_sqft'])\n",
    "housing['price_per_sqft'] = np.where(housing['price_per_sqft'] > ninetieth_percentile, ninetieth_percentile, housing['price_per_sqft'])"
   ]
  },
  {
   "cell_type": "code",
   "execution_count": 42,
   "id": "259d623f-2ef4-4982-9798-f5c7e74e1c03",
   "metadata": {},
   "outputs": [
    {
     "data": {
      "text/plain": [
       "count    13246.000000\n",
       "mean      6202.611518\n",
       "std       2526.207184\n",
       "min       3500.000000\n",
       "25%       4262.295082\n",
       "50%       5433.101240\n",
       "75%       7317.073171\n",
       "max      11657.445156\n",
       "Name: price_per_sqft, dtype: float64"
      ]
     },
     "execution_count": 42,
     "metadata": {},
     "output_type": "execute_result"
    }
   ],
   "source": [
    "housing['price_per_sqft'].describe()"
   ]
  },
  {
   "cell_type": "markdown",
   "id": "1613d61a",
   "metadata": {},
   "source": [
    "##### It is unusual to have 2 more bathrooms than number of bedrooms in a home"
   ]
  },
  {
   "cell_type": "code",
   "execution_count": 43,
   "id": "5a5dd28f",
   "metadata": {},
   "outputs": [
    {
     "data": {
      "text/plain": [
       "(44, 8)"
      ]
     },
     "execution_count": 43,
     "metadata": {},
     "output_type": "execute_result"
    }
   ],
   "source": [
    "housing[~(housing['bathroom'] < (housing['BHK'] + 2))].shape"
   ]
  },
  {
   "cell_type": "code",
   "execution_count": 44,
   "id": "a6653b8f",
   "metadata": {},
   "outputs": [
    {
     "data": {
      "text/plain": [
       "(13202, 8)"
      ]
     },
     "execution_count": 44,
     "metadata": {},
     "output_type": "execute_result"
    }
   ],
   "source": [
    "housing[(housing['bathroom'] < (housing['BHK'] + 2))].shape"
   ]
  },
  {
   "cell_type": "code",
   "execution_count": 45,
   "id": "9602b135",
   "metadata": {},
   "outputs": [
    {
     "data": {
      "text/plain": [
       "(13246, 8)"
      ]
     },
     "execution_count": 45,
     "metadata": {},
     "output_type": "execute_result"
    }
   ],
   "source": [
    "housing.shape"
   ]
  },
  {
   "cell_type": "code",
   "execution_count": 46,
   "id": "9bb6be4b",
   "metadata": {},
   "outputs": [
    {
     "data": {
      "text/plain": [
       "(13202, 8)"
      ]
     },
     "execution_count": 46,
     "metadata": {},
     "output_type": "execute_result"
    }
   ],
   "source": [
    "housing = housing[(housing['bathroom'] < (housing['BHK'] + 2))]\n",
    "housing.shape"
   ]
  },
  {
   "cell_type": "code",
   "execution_count": 47,
   "id": "4eec25fe",
   "metadata": {},
   "outputs": [],
   "source": [
    "housing['balcony'] = housing['balcony'].astype('int')"
   ]
  },
  {
   "cell_type": "code",
   "execution_count": 48,
   "id": "f3a9fa11",
   "metadata": {},
   "outputs": [
    {
     "data": {
      "text/html": [
       "<div>\n",
       "<style scoped>\n",
       "    .dataframe tbody tr th:only-of-type {\n",
       "        vertical-align: middle;\n",
       "    }\n",
       "\n",
       "    .dataframe tbody tr th {\n",
       "        vertical-align: top;\n",
       "    }\n",
       "\n",
       "    .dataframe thead th {\n",
       "        text-align: right;\n",
       "    }\n",
       "</style>\n",
       "<table border=\"1\" class=\"dataframe\">\n",
       "  <thead>\n",
       "    <tr style=\"text-align: right;\">\n",
       "      <th></th>\n",
       "      <th>area_type</th>\n",
       "      <th>location</th>\n",
       "      <th>total_sqft</th>\n",
       "      <th>bathroom</th>\n",
       "      <th>balcony</th>\n",
       "      <th>price</th>\n",
       "      <th>BHK</th>\n",
       "      <th>price_per_sqft</th>\n",
       "    </tr>\n",
       "  </thead>\n",
       "  <tbody>\n",
       "    <tr>\n",
       "      <th>0</th>\n",
       "      <td>Super built-up  Area</td>\n",
       "      <td>Electronic City Phase II</td>\n",
       "      <td>1056.0</td>\n",
       "      <td>2.0</td>\n",
       "      <td>1</td>\n",
       "      <td>39.07</td>\n",
       "      <td>2.0</td>\n",
       "      <td>3699.810606</td>\n",
       "    </tr>\n",
       "    <tr>\n",
       "      <th>1</th>\n",
       "      <td>Plot  Area</td>\n",
       "      <td>Chikka Tirupathi</td>\n",
       "      <td>2408.5</td>\n",
       "      <td>5.0</td>\n",
       "      <td>3</td>\n",
       "      <td>120.00</td>\n",
       "      <td>4.0</td>\n",
       "      <td>4615.384615</td>\n",
       "    </tr>\n",
       "    <tr>\n",
       "      <th>2</th>\n",
       "      <td>Built-up  Area</td>\n",
       "      <td>Uttarahalli</td>\n",
       "      <td>1440.0</td>\n",
       "      <td>2.0</td>\n",
       "      <td>3</td>\n",
       "      <td>62.00</td>\n",
       "      <td>3.0</td>\n",
       "      <td>4305.555556</td>\n",
       "    </tr>\n",
       "    <tr>\n",
       "      <th>3</th>\n",
       "      <td>Super built-up  Area</td>\n",
       "      <td>Lingadheeranahalli</td>\n",
       "      <td>1521.0</td>\n",
       "      <td>3.0</td>\n",
       "      <td>1</td>\n",
       "      <td>95.00</td>\n",
       "      <td>3.0</td>\n",
       "      <td>6245.890861</td>\n",
       "    </tr>\n",
       "    <tr>\n",
       "      <th>4</th>\n",
       "      <td>Super built-up  Area</td>\n",
       "      <td>Kothanur</td>\n",
       "      <td>1200.0</td>\n",
       "      <td>2.0</td>\n",
       "      <td>1</td>\n",
       "      <td>51.00</td>\n",
       "      <td>2.0</td>\n",
       "      <td>4250.000000</td>\n",
       "    </tr>\n",
       "    <tr>\n",
       "      <th>5</th>\n",
       "      <td>Super built-up  Area</td>\n",
       "      <td>Whitefield</td>\n",
       "      <td>1170.0</td>\n",
       "      <td>2.0</td>\n",
       "      <td>1</td>\n",
       "      <td>38.00</td>\n",
       "      <td>2.0</td>\n",
       "      <td>3500.000000</td>\n",
       "    </tr>\n",
       "    <tr>\n",
       "      <th>6</th>\n",
       "      <td>Super built-up  Area</td>\n",
       "      <td>Old Airport Road</td>\n",
       "      <td>2408.5</td>\n",
       "      <td>4.0</td>\n",
       "      <td>1</td>\n",
       "      <td>204.00</td>\n",
       "      <td>4.0</td>\n",
       "      <td>7467.057101</td>\n",
       "    </tr>\n",
       "    <tr>\n",
       "      <th>7</th>\n",
       "      <td>Super built-up  Area</td>\n",
       "      <td>Rajaji Nagar</td>\n",
       "      <td>2408.5</td>\n",
       "      <td>4.0</td>\n",
       "      <td>1</td>\n",
       "      <td>220.00</td>\n",
       "      <td>4.0</td>\n",
       "      <td>11657.445156</td>\n",
       "    </tr>\n",
       "    <tr>\n",
       "      <th>8</th>\n",
       "      <td>Super built-up  Area</td>\n",
       "      <td>Marathahalli</td>\n",
       "      <td>1310.0</td>\n",
       "      <td>3.0</td>\n",
       "      <td>1</td>\n",
       "      <td>63.25</td>\n",
       "      <td>3.0</td>\n",
       "      <td>4828.244275</td>\n",
       "    </tr>\n",
       "    <tr>\n",
       "      <th>9</th>\n",
       "      <td>Plot  Area</td>\n",
       "      <td>Other</td>\n",
       "      <td>1020.0</td>\n",
       "      <td>2.0</td>\n",
       "      <td>1</td>\n",
       "      <td>220.00</td>\n",
       "      <td>6.0</td>\n",
       "      <td>11657.445156</td>\n",
       "    </tr>\n",
       "  </tbody>\n",
       "</table>\n",
       "</div>"
      ],
      "text/plain": [
       "              area_type                  location  total_sqft  bathroom  \\\n",
       "0  Super built-up  Area  Electronic City Phase II      1056.0       2.0   \n",
       "1            Plot  Area          Chikka Tirupathi      2408.5       5.0   \n",
       "2        Built-up  Area               Uttarahalli      1440.0       2.0   \n",
       "3  Super built-up  Area        Lingadheeranahalli      1521.0       3.0   \n",
       "4  Super built-up  Area                  Kothanur      1200.0       2.0   \n",
       "5  Super built-up  Area                Whitefield      1170.0       2.0   \n",
       "6  Super built-up  Area          Old Airport Road      2408.5       4.0   \n",
       "7  Super built-up  Area              Rajaji Nagar      2408.5       4.0   \n",
       "8  Super built-up  Area              Marathahalli      1310.0       3.0   \n",
       "9            Plot  Area                     Other      1020.0       2.0   \n",
       "\n",
       "   balcony   price  BHK  price_per_sqft  \n",
       "0        1   39.07  2.0     3699.810606  \n",
       "1        3  120.00  4.0     4615.384615  \n",
       "2        3   62.00  3.0     4305.555556  \n",
       "3        1   95.00  3.0     6245.890861  \n",
       "4        1   51.00  2.0     4250.000000  \n",
       "5        1   38.00  2.0     3500.000000  \n",
       "6        1  204.00  4.0     7467.057101  \n",
       "7        1  220.00  4.0    11657.445156  \n",
       "8        1   63.25  3.0     4828.244275  \n",
       "9        1  220.00  6.0    11657.445156  "
      ]
     },
     "execution_count": 48,
     "metadata": {},
     "output_type": "execute_result"
    }
   ],
   "source": [
    "housing.head(10)"
   ]
  },
  {
   "cell_type": "markdown",
   "id": "52ce5d07",
   "metadata": {},
   "source": [
    "##### This data set consisits of such entries where the price of a 2BHK is more than the price of a 3BHK which have same area and same location so we take into consideration the price_per_sqft which we made earlier to help us in removing this outlier"
   ]
  },
  {
   "cell_type": "code",
   "execution_count": 49,
   "id": "864453a1-85cd-4408-9513-93c5ae8da7c4",
   "metadata": {},
   "outputs": [
    {
     "data": {
      "image/png": "[encoded data removed]",
      "text/plain": [
       "<Figure size 1440x720 with 1 Axes>"
      ]
     },
     "metadata": {
      "needs_background": "light"
     },
     "output_type": "display_data"
    }
   ],
   "source": [
    "def plot_scatter_chart(df,location):\n",
    "    bhk2 = df[(df.location==location) & (df.BHK==2)]\n",
    "    bhk3 = df[(df.location==location) & (df.BHK==3)]\n",
    "    plt.scatter(bhk2.total_sqft,bhk2.price,color='blue',label='2 BHK', s=50)\n",
    "    plt.scatter(bhk3.total_sqft,bhk3.price,marker='+', color='green',label='3 BHK', s=50)\n",
    "    plt.xlabel(\"Total Square Feet Area\")\n",
    "    plt.ylabel(\"Price (Lakh Indian Rupees)\")\n",
    "    plt.title(location)\n",
    "    plt.legend()\n",
    "    \n",
    "plot_scatter_chart(housing,\"Whitefield\")"
   ]
  },
  {
   "cell_type": "code",
   "execution_count": 50,
   "id": "6c8df387-6dd9-4ebd-b89a-af2e88bea673",
   "metadata": {},
   "outputs": [
    {
     "data": {
      "text/plain": [
       "(9087, 8)"
      ]
     },
     "execution_count": 50,
     "metadata": {},
     "output_type": "execute_result"
    }
   ],
   "source": [
    "def remove_bhk_outliers(df):\n",
    "    exclude_indices = np.array([])\n",
    "    for location, location_df in df.groupby('location'):\n",
    "        bhk_stats = {}\n",
    "        for bhk, bhk_df in location_df.groupby('BHK'):\n",
    "            bhk_stats[bhk] = {\n",
    "                'mean': np.mean(bhk_df.price_per_sqft),\n",
    "                'std': np.std(bhk_df.price_per_sqft),\n",
    "                'count': bhk_df.shape[0]\n",
    "            }\n",
    "        for bhk, bhk_df in location_df.groupby('BHK'):\n",
    "            stats = bhk_stats.get(bhk-1)\n",
    "            if stats and stats['count']>5:\n",
    "                exclude_indices = np.append(exclude_indices, bhk_df[bhk_df.price_per_sqft<(stats['mean'])].index.values)\n",
    "    return df.drop(exclude_indices,axis=0)\n",
    "housing = remove_bhk_outliers(housing)\n",
    "housing.shape"
   ]
  },
  {
   "cell_type": "code",
   "execution_count": 51,
   "id": "98bf836a-2a72-4dd7-ab28-53b0d7479623",
   "metadata": {},
   "outputs": [
    {
     "data": {
      "image/png": "[encoded data removed]",
      "text/plain": [
       "<Figure size 1440x720 with 1 Axes>"
      ]
     },
     "metadata": {
      "needs_background": "light"
     },
     "output_type": "display_data"
    }
   ],
   "source": [
    "plot_scatter_chart(housing,\"Whitefield\")"
   ]
  },
  {
   "cell_type": "code",
   "execution_count": 52,
   "id": "74f21f21-c3b6-4fcc-ad5a-e7d6068f7789",
   "metadata": {},
   "outputs": [
    {
     "data": {
      "text/html": [
       "<div>\n",
       "<style scoped>\n",
       "    .dataframe tbody tr th:only-of-type {\n",
       "        vertical-align: middle;\n",
       "    }\n",
       "\n",
       "    .dataframe tbody tr th {\n",
       "        vertical-align: top;\n",
       "    }\n",
       "\n",
       "    .dataframe thead th {\n",
       "        text-align: right;\n",
       "    }\n",
       "</style>\n",
       "<table border=\"1\" class=\"dataframe\">\n",
       "  <thead>\n",
       "    <tr style=\"text-align: right;\">\n",
       "      <th></th>\n",
       "      <th>area_type</th>\n",
       "      <th>location</th>\n",
       "      <th>total_sqft</th>\n",
       "      <th>bathroom</th>\n",
       "      <th>balcony</th>\n",
       "      <th>price</th>\n",
       "      <th>BHK</th>\n",
       "      <th>price_per_sqft</th>\n",
       "    </tr>\n",
       "  </thead>\n",
       "  <tbody>\n",
       "    <tr>\n",
       "      <th>0</th>\n",
       "      <td>Super built-up  Area</td>\n",
       "      <td>Electronic City Phase II</td>\n",
       "      <td>1056.0</td>\n",
       "      <td>2.0</td>\n",
       "      <td>1</td>\n",
       "      <td>39.07</td>\n",
       "      <td>2.0</td>\n",
       "      <td>3699.810606</td>\n",
       "    </tr>\n",
       "    <tr>\n",
       "      <th>2</th>\n",
       "      <td>Built-up  Area</td>\n",
       "      <td>Uttarahalli</td>\n",
       "      <td>1440.0</td>\n",
       "      <td>2.0</td>\n",
       "      <td>3</td>\n",
       "      <td>62.00</td>\n",
       "      <td>3.0</td>\n",
       "      <td>4305.555556</td>\n",
       "    </tr>\n",
       "    <tr>\n",
       "      <th>3</th>\n",
       "      <td>Super built-up  Area</td>\n",
       "      <td>Lingadheeranahalli</td>\n",
       "      <td>1521.0</td>\n",
       "      <td>3.0</td>\n",
       "      <td>1</td>\n",
       "      <td>95.00</td>\n",
       "      <td>3.0</td>\n",
       "      <td>6245.890861</td>\n",
       "    </tr>\n",
       "    <tr>\n",
       "      <th>4</th>\n",
       "      <td>Super built-up  Area</td>\n",
       "      <td>Kothanur</td>\n",
       "      <td>1200.0</td>\n",
       "      <td>2.0</td>\n",
       "      <td>1</td>\n",
       "      <td>51.00</td>\n",
       "      <td>2.0</td>\n",
       "      <td>4250.000000</td>\n",
       "    </tr>\n",
       "    <tr>\n",
       "      <th>6</th>\n",
       "      <td>Super built-up  Area</td>\n",
       "      <td>Old Airport Road</td>\n",
       "      <td>2408.5</td>\n",
       "      <td>4.0</td>\n",
       "      <td>1</td>\n",
       "      <td>204.00</td>\n",
       "      <td>4.0</td>\n",
       "      <td>7467.057101</td>\n",
       "    </tr>\n",
       "    <tr>\n",
       "      <th>7</th>\n",
       "      <td>Super built-up  Area</td>\n",
       "      <td>Rajaji Nagar</td>\n",
       "      <td>2408.5</td>\n",
       "      <td>4.0</td>\n",
       "      <td>1</td>\n",
       "      <td>220.00</td>\n",
       "      <td>4.0</td>\n",
       "      <td>11657.445156</td>\n",
       "    </tr>\n",
       "    <tr>\n",
       "      <th>9</th>\n",
       "      <td>Plot  Area</td>\n",
       "      <td>Other</td>\n",
       "      <td>1020.0</td>\n",
       "      <td>2.0</td>\n",
       "      <td>1</td>\n",
       "      <td>220.00</td>\n",
       "      <td>6.0</td>\n",
       "      <td>11657.445156</td>\n",
       "    </tr>\n",
       "    <tr>\n",
       "      <th>11</th>\n",
       "      <td>Plot  Area</td>\n",
       "      <td>Whitefield</td>\n",
       "      <td>2408.5</td>\n",
       "      <td>5.0</td>\n",
       "      <td>3</td>\n",
       "      <td>220.00</td>\n",
       "      <td>4.0</td>\n",
       "      <td>10592.459605</td>\n",
       "    </tr>\n",
       "    <tr>\n",
       "      <th>12</th>\n",
       "      <td>Super built-up  Area</td>\n",
       "      <td>7th Phase JP Nagar</td>\n",
       "      <td>1000.0</td>\n",
       "      <td>2.0</td>\n",
       "      <td>1</td>\n",
       "      <td>38.00</td>\n",
       "      <td>2.0</td>\n",
       "      <td>3800.000000</td>\n",
       "    </tr>\n",
       "    <tr>\n",
       "      <th>13</th>\n",
       "      <td>Built-up  Area</td>\n",
       "      <td>Gottigere</td>\n",
       "      <td>1100.0</td>\n",
       "      <td>2.0</td>\n",
       "      <td>2</td>\n",
       "      <td>40.00</td>\n",
       "      <td>2.0</td>\n",
       "      <td>3636.363636</td>\n",
       "    </tr>\n",
       "  </tbody>\n",
       "</table>\n",
       "</div>"
      ],
      "text/plain": [
       "               area_type                  location  total_sqft  bathroom  \\\n",
       "0   Super built-up  Area  Electronic City Phase II      1056.0       2.0   \n",
       "2         Built-up  Area               Uttarahalli      1440.0       2.0   \n",
       "3   Super built-up  Area        Lingadheeranahalli      1521.0       3.0   \n",
       "4   Super built-up  Area                  Kothanur      1200.0       2.0   \n",
       "6   Super built-up  Area          Old Airport Road      2408.5       4.0   \n",
       "7   Super built-up  Area              Rajaji Nagar      2408.5       4.0   \n",
       "9             Plot  Area                     Other      1020.0       2.0   \n",
       "11            Plot  Area                Whitefield      2408.5       5.0   \n",
       "12  Super built-up  Area        7th Phase JP Nagar      1000.0       2.0   \n",
       "13        Built-up  Area                 Gottigere      1100.0       2.0   \n",
       "\n",
       "    balcony   price  BHK  price_per_sqft  \n",
       "0         1   39.07  2.0     3699.810606  \n",
       "2         3   62.00  3.0     4305.555556  \n",
       "3         1   95.00  3.0     6245.890861  \n",
       "4         1   51.00  2.0     4250.000000  \n",
       "6         1  204.00  4.0     7467.057101  \n",
       "7         1  220.00  4.0    11657.445156  \n",
       "9         1  220.00  6.0    11657.445156  \n",
       "11        3  220.00  4.0    10592.459605  \n",
       "12        1   38.00  2.0     3800.000000  \n",
       "13        2   40.00  2.0     3636.363636  "
      ]
     },
     "execution_count": 52,
     "metadata": {},
     "output_type": "execute_result"
    }
   ],
   "source": [
    "housing.head(10)"
   ]
  },
  {
   "cell_type": "code",
   "execution_count": 53,
   "id": "9b2a454f-b188-4933-9b95-8ccd0ef2a83a",
   "metadata": {},
   "outputs": [],
   "source": [
    "housing.drop(['price_per_sqft'], axis=1, inplace=True)"
   ]
  },
  {
   "cell_type": "code",
   "execution_count": 54,
   "id": "5042be6e-4fd0-4210-b833-39ad784c1c69",
   "metadata": {},
   "outputs": [
    {
     "data": {
      "text/html": [
       "<div>\n",
       "<style scoped>\n",
       "    .dataframe tbody tr th:only-of-type {\n",
       "        vertical-align: middle;\n",
       "    }\n",
       "\n",
       "    .dataframe tbody tr th {\n",
       "        vertical-align: top;\n",
       "    }\n",
       "\n",
       "    .dataframe thead th {\n",
       "        text-align: right;\n",
       "    }\n",
       "</style>\n",
       "<table border=\"1\" class=\"dataframe\">\n",
       "  <thead>\n",
       "    <tr style=\"text-align: right;\">\n",
       "      <th></th>\n",
       "      <th>area_type</th>\n",
       "      <th>location</th>\n",
       "      <th>total_sqft</th>\n",
       "      <th>bathroom</th>\n",
       "      <th>balcony</th>\n",
       "      <th>price</th>\n",
       "      <th>BHK</th>\n",
       "    </tr>\n",
       "  </thead>\n",
       "  <tbody>\n",
       "    <tr>\n",
       "      <th>0</th>\n",
       "      <td>Super built-up  Area</td>\n",
       "      <td>Electronic City Phase II</td>\n",
       "      <td>1056.0</td>\n",
       "      <td>2.0</td>\n",
       "      <td>1</td>\n",
       "      <td>39.07</td>\n",
       "      <td>2.0</td>\n",
       "    </tr>\n",
       "    <tr>\n",
       "      <th>2</th>\n",
       "      <td>Built-up  Area</td>\n",
       "      <td>Uttarahalli</td>\n",
       "      <td>1440.0</td>\n",
       "      <td>2.0</td>\n",
       "      <td>3</td>\n",
       "      <td>62.00</td>\n",
       "      <td>3.0</td>\n",
       "    </tr>\n",
       "    <tr>\n",
       "      <th>3</th>\n",
       "      <td>Super built-up  Area</td>\n",
       "      <td>Lingadheeranahalli</td>\n",
       "      <td>1521.0</td>\n",
       "      <td>3.0</td>\n",
       "      <td>1</td>\n",
       "      <td>95.00</td>\n",
       "      <td>3.0</td>\n",
       "    </tr>\n",
       "    <tr>\n",
       "      <th>4</th>\n",
       "      <td>Super built-up  Area</td>\n",
       "      <td>Kothanur</td>\n",
       "      <td>1200.0</td>\n",
       "      <td>2.0</td>\n",
       "      <td>1</td>\n",
       "      <td>51.00</td>\n",
       "      <td>2.0</td>\n",
       "    </tr>\n",
       "    <tr>\n",
       "      <th>6</th>\n",
       "      <td>Super built-up  Area</td>\n",
       "      <td>Old Airport Road</td>\n",
       "      <td>2408.5</td>\n",
       "      <td>4.0</td>\n",
       "      <td>1</td>\n",
       "      <td>204.00</td>\n",
       "      <td>4.0</td>\n",
       "    </tr>\n",
       "    <tr>\n",
       "      <th>7</th>\n",
       "      <td>Super built-up  Area</td>\n",
       "      <td>Rajaji Nagar</td>\n",
       "      <td>2408.5</td>\n",
       "      <td>4.0</td>\n",
       "      <td>1</td>\n",
       "      <td>220.00</td>\n",
       "      <td>4.0</td>\n",
       "    </tr>\n",
       "    <tr>\n",
       "      <th>9</th>\n",
       "      <td>Plot  Area</td>\n",
       "      <td>Other</td>\n",
       "      <td>1020.0</td>\n",
       "      <td>2.0</td>\n",
       "      <td>1</td>\n",
       "      <td>220.00</td>\n",
       "      <td>6.0</td>\n",
       "    </tr>\n",
       "    <tr>\n",
       "      <th>11</th>\n",
       "      <td>Plot  Area</td>\n",
       "      <td>Whitefield</td>\n",
       "      <td>2408.5</td>\n",
       "      <td>5.0</td>\n",
       "      <td>3</td>\n",
       "      <td>220.00</td>\n",
       "      <td>4.0</td>\n",
       "    </tr>\n",
       "    <tr>\n",
       "      <th>12</th>\n",
       "      <td>Super built-up  Area</td>\n",
       "      <td>7th Phase JP Nagar</td>\n",
       "      <td>1000.0</td>\n",
       "      <td>2.0</td>\n",
       "      <td>1</td>\n",
       "      <td>38.00</td>\n",
       "      <td>2.0</td>\n",
       "    </tr>\n",
       "    <tr>\n",
       "      <th>13</th>\n",
       "      <td>Built-up  Area</td>\n",
       "      <td>Gottigere</td>\n",
       "      <td>1100.0</td>\n",
       "      <td>2.0</td>\n",
       "      <td>2</td>\n",
       "      <td>40.00</td>\n",
       "      <td>2.0</td>\n",
       "    </tr>\n",
       "  </tbody>\n",
       "</table>\n",
       "</div>"
      ],
      "text/plain": [
       "               area_type                  location  total_sqft  bathroom  \\\n",
       "0   Super built-up  Area  Electronic City Phase II      1056.0       2.0   \n",
       "2         Built-up  Area               Uttarahalli      1440.0       2.0   \n",
       "3   Super built-up  Area        Lingadheeranahalli      1521.0       3.0   \n",
       "4   Super built-up  Area                  Kothanur      1200.0       2.0   \n",
       "6   Super built-up  Area          Old Airport Road      2408.5       4.0   \n",
       "7   Super built-up  Area              Rajaji Nagar      2408.5       4.0   \n",
       "9             Plot  Area                     Other      1020.0       2.0   \n",
       "11            Plot  Area                Whitefield      2408.5       5.0   \n",
       "12  Super built-up  Area        7th Phase JP Nagar      1000.0       2.0   \n",
       "13        Built-up  Area                 Gottigere      1100.0       2.0   \n",
       "\n",
       "    balcony   price  BHK  \n",
       "0         1   39.07  2.0  \n",
       "2         3   62.00  3.0  \n",
       "3         1   95.00  3.0  \n",
       "4         1   51.00  2.0  \n",
       "6         1  204.00  4.0  \n",
       "7         1  220.00  4.0  \n",
       "9         1  220.00  6.0  \n",
       "11        3  220.00  4.0  \n",
       "12        1   38.00  2.0  \n",
       "13        2   40.00  2.0  "
      ]
     },
     "execution_count": 54,
     "metadata": {},
     "output_type": "execute_result"
    }
   ],
   "source": [
    "housing.head(10)"
   ]
  },
  {
   "cell_type": "markdown",
   "id": "1578fd6d-fd81-434d-b6ae-21ba0923bf8b",
   "metadata": {},
   "source": [
    "#### In general Square ft per Bedroom is 300 and anything less than that can be considered an outlier"
   ]
  },
  {
   "cell_type": "code",
   "execution_count": 55,
   "id": "66dc76d2-86db-43cd-bd7b-9d8990815f0d",
   "metadata": {},
   "outputs": [
    {
     "data": {
      "text/html": [
       "<div>\n",
       "<style scoped>\n",
       "    .dataframe tbody tr th:only-of-type {\n",
       "        vertical-align: middle;\n",
       "    }\n",
       "\n",
       "    .dataframe tbody tr th {\n",
       "        vertical-align: top;\n",
       "    }\n",
       "\n",
       "    .dataframe thead th {\n",
       "        text-align: right;\n",
       "    }\n",
       "</style>\n",
       "<table border=\"1\" class=\"dataframe\">\n",
       "  <thead>\n",
       "    <tr style=\"text-align: right;\">\n",
       "      <th></th>\n",
       "      <th>area_type</th>\n",
       "      <th>location</th>\n",
       "      <th>total_sqft</th>\n",
       "      <th>bathroom</th>\n",
       "      <th>balcony</th>\n",
       "      <th>price</th>\n",
       "      <th>BHK</th>\n",
       "    </tr>\n",
       "  </thead>\n",
       "  <tbody>\n",
       "    <tr>\n",
       "      <th>9</th>\n",
       "      <td>Plot  Area</td>\n",
       "      <td>Other</td>\n",
       "      <td>1020.0</td>\n",
       "      <td>2.0</td>\n",
       "      <td>1</td>\n",
       "      <td>220.0</td>\n",
       "      <td>6.0</td>\n",
       "    </tr>\n",
       "    <tr>\n",
       "      <th>58</th>\n",
       "      <td>Plot  Area</td>\n",
       "      <td>Other</td>\n",
       "      <td>1407.0</td>\n",
       "      <td>4.0</td>\n",
       "      <td>1</td>\n",
       "      <td>150.0</td>\n",
       "      <td>6.0</td>\n",
       "    </tr>\n",
       "    <tr>\n",
       "      <th>89</th>\n",
       "      <td>Plot  Area</td>\n",
       "      <td>Rajaji Nagar</td>\n",
       "      <td>900.0</td>\n",
       "      <td>2.0</td>\n",
       "      <td>3</td>\n",
       "      <td>160.0</td>\n",
       "      <td>6.0</td>\n",
       "    </tr>\n",
       "    <tr>\n",
       "      <th>129</th>\n",
       "      <td>Plot  Area</td>\n",
       "      <td>Other</td>\n",
       "      <td>950.0</td>\n",
       "      <td>2.0</td>\n",
       "      <td>0</td>\n",
       "      <td>115.0</td>\n",
       "      <td>7.0</td>\n",
       "    </tr>\n",
       "    <tr>\n",
       "      <th>149</th>\n",
       "      <td>Plot  Area</td>\n",
       "      <td>Other</td>\n",
       "      <td>1034.0</td>\n",
       "      <td>5.0</td>\n",
       "      <td>1</td>\n",
       "      <td>185.0</td>\n",
       "      <td>6.0</td>\n",
       "    </tr>\n",
       "    <tr>\n",
       "      <th>176</th>\n",
       "      <td>Plot  Area</td>\n",
       "      <td>Kumaraswami Layout</td>\n",
       "      <td>900.0</td>\n",
       "      <td>3.0</td>\n",
       "      <td>2</td>\n",
       "      <td>85.0</td>\n",
       "      <td>5.0</td>\n",
       "    </tr>\n",
       "    <tr>\n",
       "      <th>193</th>\n",
       "      <td>Plot  Area</td>\n",
       "      <td>Other</td>\n",
       "      <td>1800.0</td>\n",
       "      <td>2.0</td>\n",
       "      <td>1</td>\n",
       "      <td>220.0</td>\n",
       "      <td>7.0</td>\n",
       "    </tr>\n",
       "    <tr>\n",
       "      <th>258</th>\n",
       "      <td>Plot  Area</td>\n",
       "      <td>Other</td>\n",
       "      <td>1200.0</td>\n",
       "      <td>5.0</td>\n",
       "      <td>1</td>\n",
       "      <td>170.0</td>\n",
       "      <td>5.0</td>\n",
       "    </tr>\n",
       "    <tr>\n",
       "      <th>282</th>\n",
       "      <td>Plot  Area</td>\n",
       "      <td>Other</td>\n",
       "      <td>1450.0</td>\n",
       "      <td>2.0</td>\n",
       "      <td>0</td>\n",
       "      <td>220.0</td>\n",
       "      <td>6.0</td>\n",
       "    </tr>\n",
       "    <tr>\n",
       "      <th>315</th>\n",
       "      <td>Plot  Area</td>\n",
       "      <td>Other</td>\n",
       "      <td>1200.0</td>\n",
       "      <td>5.0</td>\n",
       "      <td>2</td>\n",
       "      <td>180.0</td>\n",
       "      <td>5.0</td>\n",
       "    </tr>\n",
       "  </tbody>\n",
       "</table>\n",
       "</div>"
      ],
      "text/plain": [
       "      area_type            location  total_sqft  bathroom  balcony  price  BHK\n",
       "9    Plot  Area               Other      1020.0       2.0        1  220.0  6.0\n",
       "58   Plot  Area               Other      1407.0       4.0        1  150.0  6.0\n",
       "89   Plot  Area        Rajaji Nagar       900.0       2.0        3  160.0  6.0\n",
       "129  Plot  Area               Other       950.0       2.0        0  115.0  7.0\n",
       "149  Plot  Area               Other      1034.0       5.0        1  185.0  6.0\n",
       "176  Plot  Area  Kumaraswami Layout       900.0       3.0        2   85.0  5.0\n",
       "193  Plot  Area               Other      1800.0       2.0        1  220.0  7.0\n",
       "258  Plot  Area               Other      1200.0       5.0        1  170.0  5.0\n",
       "282  Plot  Area               Other      1450.0       2.0        0  220.0  6.0\n",
       "315  Plot  Area               Other      1200.0       5.0        2  180.0  5.0"
      ]
     },
     "execution_count": 55,
     "metadata": {},
     "output_type": "execute_result"
    }
   ],
   "source": [
    "housing[housing.total_sqft/housing.BHK<300].head(10)"
   ]
  },
  {
   "cell_type": "code",
   "execution_count": 56,
   "id": "b82102d2-0b52-4e7f-b81c-6d175ed5a9a3",
   "metadata": {},
   "outputs": [
    {
     "data": {
      "text/plain": [
       "(8649, 7)"
      ]
     },
     "execution_count": 56,
     "metadata": {},
     "output_type": "execute_result"
    }
   ],
   "source": [
    "housing=housing[~(housing.total_sqft/housing.BHK<300)]\n",
    "housing.shape"
   ]
  },
  {
   "cell_type": "code",
   "execution_count": 57,
   "id": "d9693b6c-6b89-491b-b9c9-65afdeb33bd6",
   "metadata": {},
   "outputs": [
    {
     "data": {
      "text/html": [
       "<div>\n",
       "<style scoped>\n",
       "    .dataframe tbody tr th:only-of-type {\n",
       "        vertical-align: middle;\n",
       "    }\n",
       "\n",
       "    .dataframe tbody tr th {\n",
       "        vertical-align: top;\n",
       "    }\n",
       "\n",
       "    .dataframe thead th {\n",
       "        text-align: right;\n",
       "    }\n",
       "</style>\n",
       "<table border=\"1\" class=\"dataframe\">\n",
       "  <thead>\n",
       "    <tr style=\"text-align: right;\">\n",
       "      <th></th>\n",
       "      <th>area_type</th>\n",
       "      <th>location</th>\n",
       "      <th>total_sqft</th>\n",
       "      <th>bathroom</th>\n",
       "      <th>balcony</th>\n",
       "      <th>price</th>\n",
       "      <th>BHK</th>\n",
       "    </tr>\n",
       "  </thead>\n",
       "  <tbody>\n",
       "    <tr>\n",
       "      <th>0</th>\n",
       "      <td>Super built-up  Area</td>\n",
       "      <td>Electronic City Phase II</td>\n",
       "      <td>1056.0</td>\n",
       "      <td>2.0</td>\n",
       "      <td>1</td>\n",
       "      <td>39.07</td>\n",
       "      <td>2.0</td>\n",
       "    </tr>\n",
       "    <tr>\n",
       "      <th>2</th>\n",
       "      <td>Built-up  Area</td>\n",
       "      <td>Uttarahalli</td>\n",
       "      <td>1440.0</td>\n",
       "      <td>2.0</td>\n",
       "      <td>3</td>\n",
       "      <td>62.00</td>\n",
       "      <td>3.0</td>\n",
       "    </tr>\n",
       "    <tr>\n",
       "      <th>3</th>\n",
       "      <td>Super built-up  Area</td>\n",
       "      <td>Lingadheeranahalli</td>\n",
       "      <td>1521.0</td>\n",
       "      <td>3.0</td>\n",
       "      <td>1</td>\n",
       "      <td>95.00</td>\n",
       "      <td>3.0</td>\n",
       "    </tr>\n",
       "    <tr>\n",
       "      <th>4</th>\n",
       "      <td>Super built-up  Area</td>\n",
       "      <td>Kothanur</td>\n",
       "      <td>1200.0</td>\n",
       "      <td>2.0</td>\n",
       "      <td>1</td>\n",
       "      <td>51.00</td>\n",
       "      <td>2.0</td>\n",
       "    </tr>\n",
       "    <tr>\n",
       "      <th>6</th>\n",
       "      <td>Super built-up  Area</td>\n",
       "      <td>Old Airport Road</td>\n",
       "      <td>2408.5</td>\n",
       "      <td>4.0</td>\n",
       "      <td>1</td>\n",
       "      <td>204.00</td>\n",
       "      <td>4.0</td>\n",
       "    </tr>\n",
       "    <tr>\n",
       "      <th>7</th>\n",
       "      <td>Super built-up  Area</td>\n",
       "      <td>Rajaji Nagar</td>\n",
       "      <td>2408.5</td>\n",
       "      <td>4.0</td>\n",
       "      <td>1</td>\n",
       "      <td>220.00</td>\n",
       "      <td>4.0</td>\n",
       "    </tr>\n",
       "    <tr>\n",
       "      <th>11</th>\n",
       "      <td>Plot  Area</td>\n",
       "      <td>Whitefield</td>\n",
       "      <td>2408.5</td>\n",
       "      <td>5.0</td>\n",
       "      <td>3</td>\n",
       "      <td>220.00</td>\n",
       "      <td>4.0</td>\n",
       "    </tr>\n",
       "    <tr>\n",
       "      <th>12</th>\n",
       "      <td>Super built-up  Area</td>\n",
       "      <td>7th Phase JP Nagar</td>\n",
       "      <td>1000.0</td>\n",
       "      <td>2.0</td>\n",
       "      <td>1</td>\n",
       "      <td>38.00</td>\n",
       "      <td>2.0</td>\n",
       "    </tr>\n",
       "    <tr>\n",
       "      <th>13</th>\n",
       "      <td>Built-up  Area</td>\n",
       "      <td>Gottigere</td>\n",
       "      <td>1100.0</td>\n",
       "      <td>2.0</td>\n",
       "      <td>2</td>\n",
       "      <td>40.00</td>\n",
       "      <td>2.0</td>\n",
       "    </tr>\n",
       "    <tr>\n",
       "      <th>14</th>\n",
       "      <td>Plot  Area</td>\n",
       "      <td>Sarjapur</td>\n",
       "      <td>2250.0</td>\n",
       "      <td>3.0</td>\n",
       "      <td>2</td>\n",
       "      <td>148.00</td>\n",
       "      <td>3.0</td>\n",
       "    </tr>\n",
       "    <tr>\n",
       "      <th>15</th>\n",
       "      <td>Super built-up  Area</td>\n",
       "      <td>Mysore Road</td>\n",
       "      <td>1175.0</td>\n",
       "      <td>2.0</td>\n",
       "      <td>2</td>\n",
       "      <td>73.50</td>\n",
       "      <td>2.0</td>\n",
       "    </tr>\n",
       "    <tr>\n",
       "      <th>16</th>\n",
       "      <td>Super built-up  Area</td>\n",
       "      <td>Bisuvanahalli</td>\n",
       "      <td>1180.0</td>\n",
       "      <td>3.0</td>\n",
       "      <td>2</td>\n",
       "      <td>48.00</td>\n",
       "      <td>3.0</td>\n",
       "    </tr>\n",
       "    <tr>\n",
       "      <th>18</th>\n",
       "      <td>Super built-up  Area</td>\n",
       "      <td>Other</td>\n",
       "      <td>2408.5</td>\n",
       "      <td>4.0</td>\n",
       "      <td>2</td>\n",
       "      <td>220.00</td>\n",
       "      <td>3.0</td>\n",
       "    </tr>\n",
       "    <tr>\n",
       "      <th>20</th>\n",
       "      <td>Built-up  Area</td>\n",
       "      <td>Kengeri</td>\n",
       "      <td>900.0</td>\n",
       "      <td>1.0</td>\n",
       "      <td>1</td>\n",
       "      <td>38.00</td>\n",
       "      <td>1.0</td>\n",
       "    </tr>\n",
       "    <tr>\n",
       "      <th>21</th>\n",
       "      <td>Super built-up  Area</td>\n",
       "      <td>Binny Pete</td>\n",
       "      <td>1755.0</td>\n",
       "      <td>3.0</td>\n",
       "      <td>1</td>\n",
       "      <td>122.00</td>\n",
       "      <td>3.0</td>\n",
       "    </tr>\n",
       "    <tr>\n",
       "      <th>22</th>\n",
       "      <td>Plot  Area</td>\n",
       "      <td>Thanisandra</td>\n",
       "      <td>2408.5</td>\n",
       "      <td>5.0</td>\n",
       "      <td>2</td>\n",
       "      <td>220.00</td>\n",
       "      <td>4.0</td>\n",
       "    </tr>\n",
       "    <tr>\n",
       "      <th>23</th>\n",
       "      <td>Super built-up  Area</td>\n",
       "      <td>Bellandur</td>\n",
       "      <td>1767.0</td>\n",
       "      <td>3.0</td>\n",
       "      <td>1</td>\n",
       "      <td>103.00</td>\n",
       "      <td>3.0</td>\n",
       "    </tr>\n",
       "    <tr>\n",
       "      <th>24</th>\n",
       "      <td>Super built-up  Area</td>\n",
       "      <td>Other</td>\n",
       "      <td>900.0</td>\n",
       "      <td>1.0</td>\n",
       "      <td>0</td>\n",
       "      <td>38.00</td>\n",
       "      <td>1.0</td>\n",
       "    </tr>\n",
       "    <tr>\n",
       "      <th>28</th>\n",
       "      <td>Super built-up  Area</td>\n",
       "      <td>Ramagondanahalli</td>\n",
       "      <td>1151.0</td>\n",
       "      <td>2.0</td>\n",
       "      <td>2</td>\n",
       "      <td>48.77</td>\n",
       "      <td>2.0</td>\n",
       "    </tr>\n",
       "    <tr>\n",
       "      <th>29</th>\n",
       "      <td>Super built-up  Area</td>\n",
       "      <td>Electronic City</td>\n",
       "      <td>1025.0</td>\n",
       "      <td>2.0</td>\n",
       "      <td>1</td>\n",
       "      <td>47.00</td>\n",
       "      <td>3.0</td>\n",
       "    </tr>\n",
       "  </tbody>\n",
       "</table>\n",
       "</div>"
      ],
      "text/plain": [
       "               area_type                  location  total_sqft  bathroom  \\\n",
       "0   Super built-up  Area  Electronic City Phase II      1056.0       2.0   \n",
       "2         Built-up  Area               Uttarahalli      1440.0       2.0   \n",
       "3   Super built-up  Area        Lingadheeranahalli      1521.0       3.0   \n",
       "4   Super built-up  Area                  Kothanur      1200.0       2.0   \n",
       "6   Super built-up  Area          Old Airport Road      2408.5       4.0   \n",
       "7   Super built-up  Area              Rajaji Nagar      2408.5       4.0   \n",
       "11            Plot  Area                Whitefield      2408.5       5.0   \n",
       "12  Super built-up  Area        7th Phase JP Nagar      1000.0       2.0   \n",
       "13        Built-up  Area                 Gottigere      1100.0       2.0   \n",
       "14            Plot  Area                  Sarjapur      2250.0       3.0   \n",
       "15  Super built-up  Area               Mysore Road      1175.0       2.0   \n",
       "16  Super built-up  Area             Bisuvanahalli      1180.0       3.0   \n",
       "18  Super built-up  Area                     Other      2408.5       4.0   \n",
       "20        Built-up  Area                   Kengeri       900.0       1.0   \n",
       "21  Super built-up  Area                Binny Pete      1755.0       3.0   \n",
       "22            Plot  Area               Thanisandra      2408.5       5.0   \n",
       "23  Super built-up  Area                 Bellandur      1767.0       3.0   \n",
       "24  Super built-up  Area                     Other       900.0       1.0   \n",
       "28  Super built-up  Area          Ramagondanahalli      1151.0       2.0   \n",
       "29  Super built-up  Area           Electronic City      1025.0       2.0   \n",
       "\n",
       "    balcony   price  BHK  \n",
       "0         1   39.07  2.0  \n",
       "2         3   62.00  3.0  \n",
       "3         1   95.00  3.0  \n",
       "4         1   51.00  2.0  \n",
       "6         1  204.00  4.0  \n",
       "7         1  220.00  4.0  \n",
       "11        3  220.00  4.0  \n",
       "12        1   38.00  2.0  \n",
       "13        2   40.00  2.0  \n",
       "14        2  148.00  3.0  \n",
       "15        2   73.50  2.0  \n",
       "16        2   48.00  3.0  \n",
       "18        2  220.00  3.0  \n",
       "20        1   38.00  1.0  \n",
       "21        1  122.00  3.0  \n",
       "22        2  220.00  4.0  \n",
       "23        1  103.00  3.0  \n",
       "24        0   38.00  1.0  \n",
       "28        2   48.77  2.0  \n",
       "29        1   47.00  3.0  "
      ]
     },
     "execution_count": 57,
     "metadata": {},
     "output_type": "execute_result"
    }
   ],
   "source": [
    "housing.head(20)"
   ]
  },
  {
   "cell_type": "markdown",
   "id": "d3e7f54a-6fa3-4d3b-bce4-587632f6ca18",
   "metadata": {},
   "source": [
    "#### Lets Understand the Categorical Features \n",
    "#### Lets Find average price of category from categorical features "
   ]
  },
  {
   "cell_type": "code",
   "execution_count": 58,
   "id": "6e97e01c-ba07-4fe0-b92a-5e73e05fcd10",
   "metadata": {},
   "outputs": [
    {
     "data": {
      "text/html": [
       "<div>\n",
       "<style scoped>\n",
       "    .dataframe tbody tr th:only-of-type {\n",
       "        vertical-align: middle;\n",
       "    }\n",
       "\n",
       "    .dataframe tbody tr th {\n",
       "        vertical-align: top;\n",
       "    }\n",
       "\n",
       "    .dataframe thead th {\n",
       "        text-align: right;\n",
       "    }\n",
       "</style>\n",
       "<table border=\"1\" class=\"dataframe\">\n",
       "  <thead>\n",
       "    <tr style=\"text-align: right;\">\n",
       "      <th></th>\n",
       "      <th>avg-price</th>\n",
       "    </tr>\n",
       "    <tr>\n",
       "      <th>area_type</th>\n",
       "      <th></th>\n",
       "    </tr>\n",
       "  </thead>\n",
       "  <tbody>\n",
       "    <tr>\n",
       "      <th>Plot  Area</th>\n",
       "      <td>154.021639</td>\n",
       "    </tr>\n",
       "    <tr>\n",
       "      <th>Built-up  Area</th>\n",
       "      <td>100.700418</td>\n",
       "    </tr>\n",
       "    <tr>\n",
       "      <th>Super built-up  Area</th>\n",
       "      <td>90.998586</td>\n",
       "    </tr>\n",
       "    <tr>\n",
       "      <th>Carpet  Area</th>\n",
       "      <td>89.057167</td>\n",
       "    </tr>\n",
       "  </tbody>\n",
       "</table>\n",
       "</div>"
      ],
      "text/plain": [
       "                       avg-price\n",
       "area_type                       \n",
       "Plot  Area            154.021639\n",
       "Built-up  Area        100.700418\n",
       "Super built-up  Area   90.998586\n",
       "Carpet  Area           89.057167"
      ]
     },
     "execution_count": 58,
     "metadata": {},
     "output_type": "execute_result"
    }
   ],
   "source": [
    "df1 = housing[['area_type', 'price']]\n",
    "df_g = df1.groupby(['area_type'], as_index=False).mean().sort_values(ascending=False, by='price')\n",
    "df_g.rename(columns={'price':'avg-price'}, inplace=True)\n",
    "df_g.set_index('area_type', inplace=True)\n",
    "df_g"
   ]
  },
  {
   "cell_type": "code",
   "execution_count": 59,
   "id": "3442daa5-4ef4-49b6-a811-5053ccfe9ace",
   "metadata": {},
   "outputs": [
    {
     "data": {
      "text/html": [
       "<div>\n",
       "<style scoped>\n",
       "    .dataframe tbody tr th:only-of-type {\n",
       "        vertical-align: middle;\n",
       "    }\n",
       "\n",
       "    .dataframe tbody tr th {\n",
       "        vertical-align: top;\n",
       "    }\n",
       "\n",
       "    .dataframe thead th {\n",
       "        text-align: right;\n",
       "    }\n",
       "</style>\n",
       "<table border=\"1\" class=\"dataframe\">\n",
       "  <thead>\n",
       "    <tr style=\"text-align: right;\">\n",
       "      <th></th>\n",
       "      <th>avg-price</th>\n",
       "    </tr>\n",
       "    <tr>\n",
       "      <th>location</th>\n",
       "      <th></th>\n",
       "    </tr>\n",
       "  </thead>\n",
       "  <tbody>\n",
       "    <tr>\n",
       "      <th>2nd Stage Nagarbhavi</th>\n",
       "      <td>198.888889</td>\n",
       "    </tr>\n",
       "    <tr>\n",
       "      <th>Rajaji Nagar</th>\n",
       "      <td>193.955862</td>\n",
       "    </tr>\n",
       "    <tr>\n",
       "      <th>Frazer Town</th>\n",
       "      <td>179.233333</td>\n",
       "    </tr>\n",
       "    <tr>\n",
       "      <th>Iblur Village</th>\n",
       "      <td>176.428571</td>\n",
       "    </tr>\n",
       "    <tr>\n",
       "      <th>Indira Nagar</th>\n",
       "      <td>174.342857</td>\n",
       "    </tr>\n",
       "    <tr>\n",
       "      <th>Cooke Town</th>\n",
       "      <td>171.500000</td>\n",
       "    </tr>\n",
       "    <tr>\n",
       "      <th>Malleshwaram</th>\n",
       "      <td>168.213208</td>\n",
       "    </tr>\n",
       "    <tr>\n",
       "      <th>Old Airport Road</th>\n",
       "      <td>165.020312</td>\n",
       "    </tr>\n",
       "    <tr>\n",
       "      <th>Koramangala</th>\n",
       "      <td>162.037963</td>\n",
       "    </tr>\n",
       "    <tr>\n",
       "      <th>Hosakerehalli</th>\n",
       "      <td>161.066154</td>\n",
       "    </tr>\n",
       "  </tbody>\n",
       "</table>\n",
       "</div>"
      ],
      "text/plain": [
       "                       avg-price\n",
       "location                        \n",
       "2nd Stage Nagarbhavi  198.888889\n",
       "Rajaji Nagar          193.955862\n",
       "Frazer Town           179.233333\n",
       "Iblur Village         176.428571\n",
       "Indira Nagar          174.342857\n",
       "Cooke Town            171.500000\n",
       "Malleshwaram          168.213208\n",
       "Old Airport Road      165.020312\n",
       "Koramangala           162.037963\n",
       "Hosakerehalli         161.066154"
      ]
     },
     "execution_count": 59,
     "metadata": {},
     "output_type": "execute_result"
    }
   ],
   "source": [
    "df2 = housing[['location', 'price']]\n",
    "df_l = df2.groupby(['location'], as_index=False).mean().sort_values(ascending=False, by='price')\n",
    "df_l.rename(columns={'price':'avg-price'}, inplace=True)\n",
    "df_l.set_index('location', inplace=True)\n",
    "df_l.head(10)"
   ]
  },
  {
   "cell_type": "code",
   "execution_count": 60,
   "id": "089202e2-56f5-4134-b346-d22ca5b6057b",
   "metadata": {},
   "outputs": [
    {
     "data": {
      "text/html": [
       "<div>\n",
       "<style scoped>\n",
       "    .dataframe tbody tr th:only-of-type {\n",
       "        vertical-align: middle;\n",
       "    }\n",
       "\n",
       "    .dataframe tbody tr th {\n",
       "        vertical-align: top;\n",
       "    }\n",
       "\n",
       "    .dataframe thead th {\n",
       "        text-align: right;\n",
       "    }\n",
       "</style>\n",
       "<table border=\"1\" class=\"dataframe\">\n",
       "  <thead>\n",
       "    <tr style=\"text-align: right;\">\n",
       "      <th>location</th>\n",
       "      <th>1st Phase JP Nagar</th>\n",
       "      <th>2nd Stage Nagarbhavi</th>\n",
       "      <th>5th Phase JP Nagar</th>\n",
       "      <th>6th Phase JP Nagar</th>\n",
       "      <th>7th Phase JP Nagar</th>\n",
       "      <th>8th Phase JP Nagar</th>\n",
       "      <th>9th Phase JP Nagar</th>\n",
       "      <th>Abbigere</th>\n",
       "      <th>Akshaya Nagar</th>\n",
       "      <th>Ambalipura</th>\n",
       "      <th>...</th>\n",
       "      <th>Uttarahalli</th>\n",
       "      <th>Varthur</th>\n",
       "      <th>Vidyaranyapura</th>\n",
       "      <th>Vijayanagar</th>\n",
       "      <th>Vittasandra</th>\n",
       "      <th>Whitefield</th>\n",
       "      <th>Yelachenahalli</th>\n",
       "      <th>Yelahanka</th>\n",
       "      <th>Yelahanka New Town</th>\n",
       "      <th>Yeshwanthpur</th>\n",
       "    </tr>\n",
       "    <tr>\n",
       "      <th>area_type</th>\n",
       "      <th></th>\n",
       "      <th></th>\n",
       "      <th></th>\n",
       "      <th></th>\n",
       "      <th></th>\n",
       "      <th></th>\n",
       "      <th></th>\n",
       "      <th></th>\n",
       "      <th></th>\n",
       "      <th></th>\n",
       "      <th></th>\n",
       "      <th></th>\n",
       "      <th></th>\n",
       "      <th></th>\n",
       "      <th></th>\n",
       "      <th></th>\n",
       "      <th></th>\n",
       "      <th></th>\n",
       "      <th></th>\n",
       "      <th></th>\n",
       "      <th></th>\n",
       "    </tr>\n",
       "  </thead>\n",
       "  <tbody>\n",
       "    <tr>\n",
       "      <th>Built-up  Area</th>\n",
       "      <td>100.600000</td>\n",
       "      <td>170.0</td>\n",
       "      <td>65.766667</td>\n",
       "      <td>81.0</td>\n",
       "      <td>105.758571</td>\n",
       "      <td>110.600000</td>\n",
       "      <td>84.375000</td>\n",
       "      <td>99.666667</td>\n",
       "      <td>73.216667</td>\n",
       "      <td>140.000</td>\n",
       "      <td>...</td>\n",
       "      <td>51.833478</td>\n",
       "      <td>56.000000</td>\n",
       "      <td>56.000000</td>\n",
       "      <td>119.800000</td>\n",
       "      <td>0.000000</td>\n",
       "      <td>151.283333</td>\n",
       "      <td>128.333333</td>\n",
       "      <td>101.952857</td>\n",
       "      <td>51.555556</td>\n",
       "      <td>112.400000</td>\n",
       "    </tr>\n",
       "    <tr>\n",
       "      <th>Carpet  Area</th>\n",
       "      <td>0.000000</td>\n",
       "      <td>0.0</td>\n",
       "      <td>0.000000</td>\n",
       "      <td>0.0</td>\n",
       "      <td>0.000000</td>\n",
       "      <td>38.000000</td>\n",
       "      <td>0.000000</td>\n",
       "      <td>0.000000</td>\n",
       "      <td>0.000000</td>\n",
       "      <td>0.000</td>\n",
       "      <td>...</td>\n",
       "      <td>88.000000</td>\n",
       "      <td>0.000000</td>\n",
       "      <td>0.000000</td>\n",
       "      <td>0.000000</td>\n",
       "      <td>0.000000</td>\n",
       "      <td>0.000000</td>\n",
       "      <td>0.000000</td>\n",
       "      <td>0.000000</td>\n",
       "      <td>38.000000</td>\n",
       "      <td>0.000000</td>\n",
       "    </tr>\n",
       "    <tr>\n",
       "      <th>Plot  Area</th>\n",
       "      <td>210.000000</td>\n",
       "      <td>202.5</td>\n",
       "      <td>206.250000</td>\n",
       "      <td>135.0</td>\n",
       "      <td>172.500000</td>\n",
       "      <td>178.750000</td>\n",
       "      <td>113.400000</td>\n",
       "      <td>120.000000</td>\n",
       "      <td>161.666667</td>\n",
       "      <td>0.000</td>\n",
       "      <td>...</td>\n",
       "      <td>184.666667</td>\n",
       "      <td>115.141250</td>\n",
       "      <td>127.875000</td>\n",
       "      <td>185.285714</td>\n",
       "      <td>0.000000</td>\n",
       "      <td>193.332500</td>\n",
       "      <td>160.000000</td>\n",
       "      <td>130.750000</td>\n",
       "      <td>180.000000</td>\n",
       "      <td>141.666667</td>\n",
       "    </tr>\n",
       "    <tr>\n",
       "      <th>Super built-up  Area</th>\n",
       "      <td>136.708333</td>\n",
       "      <td>0.0</td>\n",
       "      <td>69.250000</td>\n",
       "      <td>108.5</td>\n",
       "      <td>91.359468</td>\n",
       "      <td>58.483833</td>\n",
       "      <td>57.742222</td>\n",
       "      <td>39.869333</td>\n",
       "      <td>86.770000</td>\n",
       "      <td>86.991</td>\n",
       "      <td>...</td>\n",
       "      <td>54.450297</td>\n",
       "      <td>63.521702</td>\n",
       "      <td>52.423077</td>\n",
       "      <td>87.393913</td>\n",
       "      <td>68.425714</td>\n",
       "      <td>108.226096</td>\n",
       "      <td>74.400000</td>\n",
       "      <td>85.880655</td>\n",
       "      <td>42.538462</td>\n",
       "      <td>91.561970</td>\n",
       "    </tr>\n",
       "  </tbody>\n",
       "</table>\n",
       "<p>4 rows × 181 columns</p>\n",
       "</div>"
      ],
      "text/plain": [
       "location              1st Phase JP Nagar  2nd Stage Nagarbhavi  \\\n",
       "area_type                                                        \n",
       "Built-up  Area                100.600000                 170.0   \n",
       "Carpet  Area                    0.000000                   0.0   \n",
       "Plot  Area                    210.000000                 202.5   \n",
       "Super built-up  Area          136.708333                   0.0   \n",
       "\n",
       "location              5th Phase JP Nagar  6th Phase JP Nagar  \\\n",
       "area_type                                                      \n",
       "Built-up  Area                 65.766667                81.0   \n",
       "Carpet  Area                    0.000000                 0.0   \n",
       "Plot  Area                    206.250000               135.0   \n",
       "Super built-up  Area           69.250000               108.5   \n",
       "\n",
       "location              7th Phase JP Nagar  8th Phase JP Nagar  \\\n",
       "area_type                                                      \n",
       "Built-up  Area                105.758571          110.600000   \n",
       "Carpet  Area                    0.000000           38.000000   \n",
       "Plot  Area                    172.500000          178.750000   \n",
       "Super built-up  Area           91.359468           58.483833   \n",
       "\n",
       "location              9th Phase JP Nagar    Abbigere  Akshaya Nagar  \\\n",
       "area_type                                                             \n",
       "Built-up  Area                 84.375000   99.666667      73.216667   \n",
       "Carpet  Area                    0.000000    0.000000       0.000000   \n",
       "Plot  Area                    113.400000  120.000000     161.666667   \n",
       "Super built-up  Area           57.742222   39.869333      86.770000   \n",
       "\n",
       "location              Ambalipura  ...  Uttarahalli     Varthur  \\\n",
       "area_type                         ...                            \n",
       "Built-up  Area           140.000  ...    51.833478   56.000000   \n",
       "Carpet  Area               0.000  ...    88.000000    0.000000   \n",
       "Plot  Area                 0.000  ...   184.666667  115.141250   \n",
       "Super built-up  Area      86.991  ...    54.450297   63.521702   \n",
       "\n",
       "location              Vidyaranyapura  Vijayanagar  Vittasandra  Whitefield  \\\n",
       "area_type                                                                    \n",
       "Built-up  Area             56.000000   119.800000     0.000000  151.283333   \n",
       "Carpet  Area                0.000000     0.000000     0.000000    0.000000   \n",
       "Plot  Area                127.875000   185.285714     0.000000  193.332500   \n",
       "Super built-up  Area       52.423077    87.393913    68.425714  108.226096   \n",
       "\n",
       "location              Yelachenahalli   Yelahanka  Yelahanka New Town  \\\n",
       "area_type                                                              \n",
       "Built-up  Area            128.333333  101.952857           51.555556   \n",
       "Carpet  Area                0.000000    0.000000           38.000000   \n",
       "Plot  Area                160.000000  130.750000          180.000000   \n",
       "Super built-up  Area       74.400000   85.880655           42.538462   \n",
       "\n",
       "location              Yeshwanthpur  \n",
       "area_type                           \n",
       "Built-up  Area          112.400000  \n",
       "Carpet  Area              0.000000  \n",
       "Plot  Area              141.666667  \n",
       "Super built-up  Area     91.561970  \n",
       "\n",
       "[4 rows x 181 columns]"
      ]
     },
     "execution_count": 60,
     "metadata": {},
     "output_type": "execute_result"
    }
   ],
   "source": [
    "df3 = housing[['area_type','location', 'price']]\n",
    "df_p = df3.groupby(['area_type','location'], as_index=False).mean().sort_values(ascending=False, by='price')\n",
    "df_p.set_index('area_type', inplace=True)\n",
    "df_p.rename(columns={'price':'avg-price'}, inplace=True)\n",
    "df_pivot = pd.pivot_table(df_p, index='area_type', columns='location', values='avg-price')\n",
    "df_pivot.fillna(0, inplace=True)\n",
    "df_pivot "
   ]
  },
  {
   "cell_type": "code",
   "execution_count": 61,
   "id": "ab098e68-0553-4649-bbf2-e0bb6528de76",
   "metadata": {},
   "outputs": [
    {
     "data": {
      "text/plain": [
       "Index(['area_type', 'location', 'total_sqft', 'bathroom', 'balcony', 'price',\n",
       "       'BHK'],\n",
       "      dtype='object')"
      ]
     },
     "execution_count": 61,
     "metadata": {},
     "output_type": "execute_result"
    }
   ],
   "source": [
    "housing.columns"
   ]
  },
  {
   "cell_type": "code",
   "execution_count": 62,
   "id": "bbdfc3de-2fad-4f52-90e2-35064294bcce",
   "metadata": {},
   "outputs": [],
   "source": [
    "housing.to_csv(\"Cleaned_data.csv\")"
   ]
  },
  {
   "cell_type": "markdown",
   "id": "ed53eb70-53fd-4188-8004-8fa170e60f15",
   "metadata": {},
   "source": [
    "# Model Building"
   ]
  },
  {
   "cell_type": "code",
   "execution_count": 63,
   "id": "d5127e00-fa8c-4e7f-b845-bd5dcdf06a3e",
   "metadata": {},
   "outputs": [],
   "source": [
    "one_dum = pd.get_dummies(housing['area_type'])\n",
    "housing = pd.concat([housing, one_dum], axis=1)\n",
    "housing.drop(['area_type'], axis=1, inplace=True)"
   ]
  },
  {
   "cell_type": "code",
   "execution_count": 64,
   "id": "bac160ad-1524-4051-8d59-cbdcbcf2f2a9",
   "metadata": {},
   "outputs": [
    {
     "data": {
      "text/html": [
       "<div>\n",
       "<style scoped>\n",
       "    .dataframe tbody tr th:only-of-type {\n",
       "        vertical-align: middle;\n",
       "    }\n",
       "\n",
       "    .dataframe tbody tr th {\n",
       "        vertical-align: top;\n",
       "    }\n",
       "\n",
       "    .dataframe thead th {\n",
       "        text-align: right;\n",
       "    }\n",
       "</style>\n",
       "<table border=\"1\" class=\"dataframe\">\n",
       "  <thead>\n",
       "    <tr style=\"text-align: right;\">\n",
       "      <th></th>\n",
       "      <th>location</th>\n",
       "      <th>total_sqft</th>\n",
       "      <th>bathroom</th>\n",
       "      <th>balcony</th>\n",
       "      <th>price</th>\n",
       "      <th>BHK</th>\n",
       "      <th>Built-up  Area</th>\n",
       "      <th>Carpet  Area</th>\n",
       "      <th>Plot  Area</th>\n",
       "      <th>Super built-up  Area</th>\n",
       "    </tr>\n",
       "  </thead>\n",
       "  <tbody>\n",
       "    <tr>\n",
       "      <th>0</th>\n",
       "      <td>Electronic City Phase II</td>\n",
       "      <td>1056.0</td>\n",
       "      <td>2.0</td>\n",
       "      <td>1</td>\n",
       "      <td>39.07</td>\n",
       "      <td>2.0</td>\n",
       "      <td>0</td>\n",
       "      <td>0</td>\n",
       "      <td>0</td>\n",
       "      <td>1</td>\n",
       "    </tr>\n",
       "    <tr>\n",
       "      <th>2</th>\n",
       "      <td>Uttarahalli</td>\n",
       "      <td>1440.0</td>\n",
       "      <td>2.0</td>\n",
       "      <td>3</td>\n",
       "      <td>62.00</td>\n",
       "      <td>3.0</td>\n",
       "      <td>1</td>\n",
       "      <td>0</td>\n",
       "      <td>0</td>\n",
       "      <td>0</td>\n",
       "    </tr>\n",
       "    <tr>\n",
       "      <th>3</th>\n",
       "      <td>Lingadheeranahalli</td>\n",
       "      <td>1521.0</td>\n",
       "      <td>3.0</td>\n",
       "      <td>1</td>\n",
       "      <td>95.00</td>\n",
       "      <td>3.0</td>\n",
       "      <td>0</td>\n",
       "      <td>0</td>\n",
       "      <td>0</td>\n",
       "      <td>1</td>\n",
       "    </tr>\n",
       "    <tr>\n",
       "      <th>4</th>\n",
       "      <td>Kothanur</td>\n",
       "      <td>1200.0</td>\n",
       "      <td>2.0</td>\n",
       "      <td>1</td>\n",
       "      <td>51.00</td>\n",
       "      <td>2.0</td>\n",
       "      <td>0</td>\n",
       "      <td>0</td>\n",
       "      <td>0</td>\n",
       "      <td>1</td>\n",
       "    </tr>\n",
       "    <tr>\n",
       "      <th>6</th>\n",
       "      <td>Old Airport Road</td>\n",
       "      <td>2408.5</td>\n",
       "      <td>4.0</td>\n",
       "      <td>1</td>\n",
       "      <td>204.00</td>\n",
       "      <td>4.0</td>\n",
       "      <td>0</td>\n",
       "      <td>0</td>\n",
       "      <td>0</td>\n",
       "      <td>1</td>\n",
       "    </tr>\n",
       "    <tr>\n",
       "      <th>7</th>\n",
       "      <td>Rajaji Nagar</td>\n",
       "      <td>2408.5</td>\n",
       "      <td>4.0</td>\n",
       "      <td>1</td>\n",
       "      <td>220.00</td>\n",
       "      <td>4.0</td>\n",
       "      <td>0</td>\n",
       "      <td>0</td>\n",
       "      <td>0</td>\n",
       "      <td>1</td>\n",
       "    </tr>\n",
       "    <tr>\n",
       "      <th>11</th>\n",
       "      <td>Whitefield</td>\n",
       "      <td>2408.5</td>\n",
       "      <td>5.0</td>\n",
       "      <td>3</td>\n",
       "      <td>220.00</td>\n",
       "      <td>4.0</td>\n",
       "      <td>0</td>\n",
       "      <td>0</td>\n",
       "      <td>1</td>\n",
       "      <td>0</td>\n",
       "    </tr>\n",
       "    <tr>\n",
       "      <th>12</th>\n",
       "      <td>7th Phase JP Nagar</td>\n",
       "      <td>1000.0</td>\n",
       "      <td>2.0</td>\n",
       "      <td>1</td>\n",
       "      <td>38.00</td>\n",
       "      <td>2.0</td>\n",
       "      <td>0</td>\n",
       "      <td>0</td>\n",
       "      <td>0</td>\n",
       "      <td>1</td>\n",
       "    </tr>\n",
       "    <tr>\n",
       "      <th>13</th>\n",
       "      <td>Gottigere</td>\n",
       "      <td>1100.0</td>\n",
       "      <td>2.0</td>\n",
       "      <td>2</td>\n",
       "      <td>40.00</td>\n",
       "      <td>2.0</td>\n",
       "      <td>1</td>\n",
       "      <td>0</td>\n",
       "      <td>0</td>\n",
       "      <td>0</td>\n",
       "    </tr>\n",
       "    <tr>\n",
       "      <th>14</th>\n",
       "      <td>Sarjapur</td>\n",
       "      <td>2250.0</td>\n",
       "      <td>3.0</td>\n",
       "      <td>2</td>\n",
       "      <td>148.00</td>\n",
       "      <td>3.0</td>\n",
       "      <td>0</td>\n",
       "      <td>0</td>\n",
       "      <td>1</td>\n",
       "      <td>0</td>\n",
       "    </tr>\n",
       "  </tbody>\n",
       "</table>\n",
       "</div>"
      ],
      "text/plain": [
       "                    location  total_sqft  bathroom  balcony   price  BHK  \\\n",
       "0   Electronic City Phase II      1056.0       2.0        1   39.07  2.0   \n",
       "2                Uttarahalli      1440.0       2.0        3   62.00  3.0   \n",
       "3         Lingadheeranahalli      1521.0       3.0        1   95.00  3.0   \n",
       "4                   Kothanur      1200.0       2.0        1   51.00  2.0   \n",
       "6           Old Airport Road      2408.5       4.0        1  204.00  4.0   \n",
       "7               Rajaji Nagar      2408.5       4.0        1  220.00  4.0   \n",
       "11                Whitefield      2408.5       5.0        3  220.00  4.0   \n",
       "12        7th Phase JP Nagar      1000.0       2.0        1   38.00  2.0   \n",
       "13                 Gottigere      1100.0       2.0        2   40.00  2.0   \n",
       "14                  Sarjapur      2250.0       3.0        2  148.00  3.0   \n",
       "\n",
       "    Built-up  Area  Carpet  Area  Plot  Area  Super built-up  Area  \n",
       "0                0             0           0                     1  \n",
       "2                1             0           0                     0  \n",
       "3                0             0           0                     1  \n",
       "4                0             0           0                     1  \n",
       "6                0             0           0                     1  \n",
       "7                0             0           0                     1  \n",
       "11               0             0           1                     0  \n",
       "12               0             0           0                     1  \n",
       "13               1             0           0                     0  \n",
       "14               0             0           1                     0  "
      ]
     },
     "execution_count": 64,
     "metadata": {},
     "output_type": "execute_result"
    }
   ],
   "source": [
    "housing.head(10)"
   ]
  },
  {
   "cell_type": "code",
   "execution_count": 65,
   "id": "75853969-00ed-40b5-9418-552a87d2f803",
   "metadata": {},
   "outputs": [],
   "source": [
    "ne_dum = pd.get_dummies(housing['location'])\n",
    "housing = pd.concat([housing, ne_dum], axis=1)\n",
    "housing.drop(['location'], axis=1, inplace=True)"
   ]
  },
  {
   "cell_type": "code",
   "execution_count": 66,
   "id": "de56efbe-f5e6-459b-b5dd-1b3939fe26e9",
   "metadata": {},
   "outputs": [
    {
     "data": {
      "text/html": [
       "<div>\n",
       "<style scoped>\n",
       "    .dataframe tbody tr th:only-of-type {\n",
       "        vertical-align: middle;\n",
       "    }\n",
       "\n",
       "    .dataframe tbody tr th {\n",
       "        vertical-align: top;\n",
       "    }\n",
       "\n",
       "    .dataframe thead th {\n",
       "        text-align: right;\n",
       "    }\n",
       "</style>\n",
       "<table border=\"1\" class=\"dataframe\">\n",
       "  <thead>\n",
       "    <tr style=\"text-align: right;\">\n",
       "      <th></th>\n",
       "      <th>total_sqft</th>\n",
       "      <th>bathroom</th>\n",
       "      <th>balcony</th>\n",
       "      <th>price</th>\n",
       "      <th>BHK</th>\n",
       "      <th>Built-up  Area</th>\n",
       "      <th>Carpet  Area</th>\n",
       "      <th>Plot  Area</th>\n",
       "      <th>Super built-up  Area</th>\n",
       "      <th>1st Phase JP Nagar</th>\n",
       "      <th>...</th>\n",
       "      <th>Uttarahalli</th>\n",
       "      <th>Varthur</th>\n",
       "      <th>Vidyaranyapura</th>\n",
       "      <th>Vijayanagar</th>\n",
       "      <th>Vittasandra</th>\n",
       "      <th>Whitefield</th>\n",
       "      <th>Yelachenahalli</th>\n",
       "      <th>Yelahanka</th>\n",
       "      <th>Yelahanka New Town</th>\n",
       "      <th>Yeshwanthpur</th>\n",
       "    </tr>\n",
       "  </thead>\n",
       "  <tbody>\n",
       "    <tr>\n",
       "      <th>0</th>\n",
       "      <td>1056.0</td>\n",
       "      <td>2.0</td>\n",
       "      <td>1</td>\n",
       "      <td>39.07</td>\n",
       "      <td>2.0</td>\n",
       "      <td>0</td>\n",
       "      <td>0</td>\n",
       "      <td>0</td>\n",
       "      <td>1</td>\n",
       "      <td>0</td>\n",
       "      <td>...</td>\n",
       "      <td>0</td>\n",
       "      <td>0</td>\n",
       "      <td>0</td>\n",
       "      <td>0</td>\n",
       "      <td>0</td>\n",
       "      <td>0</td>\n",
       "      <td>0</td>\n",
       "      <td>0</td>\n",
       "      <td>0</td>\n",
       "      <td>0</td>\n",
       "    </tr>\n",
       "    <tr>\n",
       "      <th>2</th>\n",
       "      <td>1440.0</td>\n",
       "      <td>2.0</td>\n",
       "      <td>3</td>\n",
       "      <td>62.00</td>\n",
       "      <td>3.0</td>\n",
       "      <td>1</td>\n",
       "      <td>0</td>\n",
       "      <td>0</td>\n",
       "      <td>0</td>\n",
       "      <td>0</td>\n",
       "      <td>...</td>\n",
       "      <td>1</td>\n",
       "      <td>0</td>\n",
       "      <td>0</td>\n",
       "      <td>0</td>\n",
       "      <td>0</td>\n",
       "      <td>0</td>\n",
       "      <td>0</td>\n",
       "      <td>0</td>\n",
       "      <td>0</td>\n",
       "      <td>0</td>\n",
       "    </tr>\n",
       "    <tr>\n",
       "      <th>3</th>\n",
       "      <td>1521.0</td>\n",
       "      <td>3.0</td>\n",
       "      <td>1</td>\n",
       "      <td>95.00</td>\n",
       "      <td>3.0</td>\n",
       "      <td>0</td>\n",
       "      <td>0</td>\n",
       "      <td>0</td>\n",
       "      <td>1</td>\n",
       "      <td>0</td>\n",
       "      <td>...</td>\n",
       "      <td>0</td>\n",
       "      <td>0</td>\n",
       "      <td>0</td>\n",
       "      <td>0</td>\n",
       "      <td>0</td>\n",
       "      <td>0</td>\n",
       "      <td>0</td>\n",
       "      <td>0</td>\n",
       "      <td>0</td>\n",
       "      <td>0</td>\n",
       "    </tr>\n",
       "    <tr>\n",
       "      <th>4</th>\n",
       "      <td>1200.0</td>\n",
       "      <td>2.0</td>\n",
       "      <td>1</td>\n",
       "      <td>51.00</td>\n",
       "      <td>2.0</td>\n",
       "      <td>0</td>\n",
       "      <td>0</td>\n",
       "      <td>0</td>\n",
       "      <td>1</td>\n",
       "      <td>0</td>\n",
       "      <td>...</td>\n",
       "      <td>0</td>\n",
       "      <td>0</td>\n",
       "      <td>0</td>\n",
       "      <td>0</td>\n",
       "      <td>0</td>\n",
       "      <td>0</td>\n",
       "      <td>0</td>\n",
       "      <td>0</td>\n",
       "      <td>0</td>\n",
       "      <td>0</td>\n",
       "    </tr>\n",
       "    <tr>\n",
       "      <th>6</th>\n",
       "      <td>2408.5</td>\n",
       "      <td>4.0</td>\n",
       "      <td>1</td>\n",
       "      <td>204.00</td>\n",
       "      <td>4.0</td>\n",
       "      <td>0</td>\n",
       "      <td>0</td>\n",
       "      <td>0</td>\n",
       "      <td>1</td>\n",
       "      <td>0</td>\n",
       "      <td>...</td>\n",
       "      <td>0</td>\n",
       "      <td>0</td>\n",
       "      <td>0</td>\n",
       "      <td>0</td>\n",
       "      <td>0</td>\n",
       "      <td>0</td>\n",
       "      <td>0</td>\n",
       "      <td>0</td>\n",
       "      <td>0</td>\n",
       "      <td>0</td>\n",
       "    </tr>\n",
       "    <tr>\n",
       "      <th>7</th>\n",
       "      <td>2408.5</td>\n",
       "      <td>4.0</td>\n",
       "      <td>1</td>\n",
       "      <td>220.00</td>\n",
       "      <td>4.0</td>\n",
       "      <td>0</td>\n",
       "      <td>0</td>\n",
       "      <td>0</td>\n",
       "      <td>1</td>\n",
       "      <td>0</td>\n",
       "      <td>...</td>\n",
       "      <td>0</td>\n",
       "      <td>0</td>\n",
       "      <td>0</td>\n",
       "      <td>0</td>\n",
       "      <td>0</td>\n",
       "      <td>0</td>\n",
       "      <td>0</td>\n",
       "      <td>0</td>\n",
       "      <td>0</td>\n",
       "      <td>0</td>\n",
       "    </tr>\n",
       "    <tr>\n",
       "      <th>11</th>\n",
       "      <td>2408.5</td>\n",
       "      <td>5.0</td>\n",
       "      <td>3</td>\n",
       "      <td>220.00</td>\n",
       "      <td>4.0</td>\n",
       "      <td>0</td>\n",
       "      <td>0</td>\n",
       "      <td>1</td>\n",
       "      <td>0</td>\n",
       "      <td>0</td>\n",
       "      <td>...</td>\n",
       "      <td>0</td>\n",
       "      <td>0</td>\n",
       "      <td>0</td>\n",
       "      <td>0</td>\n",
       "      <td>0</td>\n",
       "      <td>1</td>\n",
       "      <td>0</td>\n",
       "      <td>0</td>\n",
       "      <td>0</td>\n",
       "      <td>0</td>\n",
       "    </tr>\n",
       "    <tr>\n",
       "      <th>12</th>\n",
       "      <td>1000.0</td>\n",
       "      <td>2.0</td>\n",
       "      <td>1</td>\n",
       "      <td>38.00</td>\n",
       "      <td>2.0</td>\n",
       "      <td>0</td>\n",
       "      <td>0</td>\n",
       "      <td>0</td>\n",
       "      <td>1</td>\n",
       "      <td>0</td>\n",
       "      <td>...</td>\n",
       "      <td>0</td>\n",
       "      <td>0</td>\n",
       "      <td>0</td>\n",
       "      <td>0</td>\n",
       "      <td>0</td>\n",
       "      <td>0</td>\n",
       "      <td>0</td>\n",
       "      <td>0</td>\n",
       "      <td>0</td>\n",
       "      <td>0</td>\n",
       "    </tr>\n",
       "    <tr>\n",
       "      <th>13</th>\n",
       "      <td>1100.0</td>\n",
       "      <td>2.0</td>\n",
       "      <td>2</td>\n",
       "      <td>40.00</td>\n",
       "      <td>2.0</td>\n",
       "      <td>1</td>\n",
       "      <td>0</td>\n",
       "      <td>0</td>\n",
       "      <td>0</td>\n",
       "      <td>0</td>\n",
       "      <td>...</td>\n",
       "      <td>0</td>\n",
       "      <td>0</td>\n",
       "      <td>0</td>\n",
       "      <td>0</td>\n",
       "      <td>0</td>\n",
       "      <td>0</td>\n",
       "      <td>0</td>\n",
       "      <td>0</td>\n",
       "      <td>0</td>\n",
       "      <td>0</td>\n",
       "    </tr>\n",
       "    <tr>\n",
       "      <th>14</th>\n",
       "      <td>2250.0</td>\n",
       "      <td>3.0</td>\n",
       "      <td>2</td>\n",
       "      <td>148.00</td>\n",
       "      <td>3.0</td>\n",
       "      <td>0</td>\n",
       "      <td>0</td>\n",
       "      <td>1</td>\n",
       "      <td>0</td>\n",
       "      <td>0</td>\n",
       "      <td>...</td>\n",
       "      <td>0</td>\n",
       "      <td>0</td>\n",
       "      <td>0</td>\n",
       "      <td>0</td>\n",
       "      <td>0</td>\n",
       "      <td>0</td>\n",
       "      <td>0</td>\n",
       "      <td>0</td>\n",
       "      <td>0</td>\n",
       "      <td>0</td>\n",
       "    </tr>\n",
       "  </tbody>\n",
       "</table>\n",
       "<p>10 rows × 190 columns</p>\n",
       "</div>"
      ],
      "text/plain": [
       "    total_sqft  bathroom  balcony   price  BHK  Built-up  Area  Carpet  Area  \\\n",
       "0       1056.0       2.0        1   39.07  2.0               0             0   \n",
       "2       1440.0       2.0        3   62.00  3.0               1             0   \n",
       "3       1521.0       3.0        1   95.00  3.0               0             0   \n",
       "4       1200.0       2.0        1   51.00  2.0               0             0   \n",
       "6       2408.5       4.0        1  204.00  4.0               0             0   \n",
       "7       2408.5       4.0        1  220.00  4.0               0             0   \n",
       "11      2408.5       5.0        3  220.00  4.0               0             0   \n",
       "12      1000.0       2.0        1   38.00  2.0               0             0   \n",
       "13      1100.0       2.0        2   40.00  2.0               1             0   \n",
       "14      2250.0       3.0        2  148.00  3.0               0             0   \n",
       "\n",
       "    Plot  Area  Super built-up  Area  1st Phase JP Nagar  ...  Uttarahalli  \\\n",
       "0            0                     1                   0  ...            0   \n",
       "2            0                     0                   0  ...            1   \n",
       "3            0                     1                   0  ...            0   \n",
       "4            0                     1                   0  ...            0   \n",
       "6            0                     1                   0  ...            0   \n",
       "7            0                     1                   0  ...            0   \n",
       "11           1                     0                   0  ...            0   \n",
       "12           0                     1                   0  ...            0   \n",
       "13           0                     0                   0  ...            0   \n",
       "14           1                     0                   0  ...            0   \n",
       "\n",
       "    Varthur  Vidyaranyapura  Vijayanagar  Vittasandra  Whitefield  \\\n",
       "0         0               0            0            0           0   \n",
       "2         0               0            0            0           0   \n",
       "3         0               0            0            0           0   \n",
       "4         0               0            0            0           0   \n",
       "6         0               0            0            0           0   \n",
       "7         0               0            0            0           0   \n",
       "11        0               0            0            0           1   \n",
       "12        0               0            0            0           0   \n",
       "13        0               0            0            0           0   \n",
       "14        0               0            0            0           0   \n",
       "\n",
       "    Yelachenahalli  Yelahanka  Yelahanka New Town  Yeshwanthpur  \n",
       "0                0          0                   0             0  \n",
       "2                0          0                   0             0  \n",
       "3                0          0                   0             0  \n",
       "4                0          0                   0             0  \n",
       "6                0          0                   0             0  \n",
       "7                0          0                   0             0  \n",
       "11               0          0                   0             0  \n",
       "12               0          0                   0             0  \n",
       "13               0          0                   0             0  \n",
       "14               0          0                   0             0  \n",
       "\n",
       "[10 rows x 190 columns]"
      ]
     },
     "execution_count": 66,
     "metadata": {},
     "output_type": "execute_result"
    }
   ],
   "source": [
    "housing.head(10)"
   ]
  },
  {
   "cell_type": "code",
   "execution_count": 67,
   "id": "5c3a174b-c27a-4243-8196-be84df35b65e",
   "metadata": {},
   "outputs": [
    {
     "data": {
      "text/plain": [
       "(8649, 190)"
      ]
     },
     "execution_count": 67,
     "metadata": {},
     "output_type": "execute_result"
    }
   ],
   "source": [
    "housing.shape"
   ]
  },
  {
   "cell_type": "code",
   "execution_count": 68,
   "id": "13fbaa4d-fd94-45ea-8a36-cea0bffbdd1e",
   "metadata": {},
   "outputs": [
    {
     "data": {
      "text/plain": [
       "(8649, 189)"
      ]
     },
     "execution_count": 68,
     "metadata": {},
     "output_type": "execute_result"
    }
   ],
   "source": [
    "X = housing.drop(['price'], axis=1)\n",
    "X.shape"
   ]
  },
  {
   "cell_type": "code",
   "execution_count": 69,
   "id": "5b9d3924-4707-448d-8206-b282db6f3d48",
   "metadata": {},
   "outputs": [
    {
     "data": {
      "text/plain": [
       "(8649,)"
      ]
     },
     "execution_count": 69,
     "metadata": {},
     "output_type": "execute_result"
    }
   ],
   "source": [
    "Y = housing['price']\n",
    "Y.shape"
   ]
  },
  {
   "cell_type": "code",
   "execution_count": 70,
   "id": "55a9e056-459b-45f2-b3ac-8fb7634f3a9b",
   "metadata": {},
   "outputs": [
    {
     "name": "stdout",
     "output_type": "stream",
     "text": [
      "(7178, 189) \n",
      " (1471, 189) \n",
      " (7178,) \n",
      " (1471,)\n"
     ]
    }
   ],
   "source": [
    "X_train, X_test, Y_train, Y_test = train_test_split(X, Y, test_size=0.17, random_state=42)\n",
    "print(f\"{X_train.shape} \\n {X_test.shape} \\n {Y_train.shape} \\n {Y_test.shape}\")"
   ]
  },
  {
   "cell_type": "code",
   "execution_count": 71,
   "id": "baae5c15-94e8-4435-bcf4-53d00f294ab0",
   "metadata": {},
   "outputs": [
    {
     "data": {
      "text/plain": [
       "array([ 57.35594177,  73.93426514,  75.0807972 , ..., 173.53151894,\n",
       "        63.62428474, 123.63779068])"
      ]
     },
     "execution_count": 71,
     "metadata": {},
     "output_type": "execute_result"
    }
   ],
   "source": [
    "LinearModel = LinearRegression()\n",
    "LinearModel.fit(X_train, Y_train)\n",
    "Y_pred = LinearModel.predict(X_test)\n",
    "Y_pred"
   ]
  },
  {
   "cell_type": "code",
   "execution_count": 72,
   "id": "16174d1f-906f-495a-b50f-ff428e3367a1",
   "metadata": {},
   "outputs": [
    {
     "data": {
      "text/plain": [
       "array([ 45.47550201,  63.34605789,  63.38233948, ...,  56.06871414,\n",
       "       124.39931488, 188.36610794])"
      ]
     },
     "execution_count": 72,
     "metadata": {},
     "output_type": "execute_result"
    }
   ],
   "source": [
    "Y_pred_train = LinearModel.predict(X_train)\n",
    "Y_pred_train"
   ]
  },
  {
   "cell_type": "code",
   "execution_count": 73,
   "id": "487d4a38-cf93-4626-8364-a120a57d8ae6",
   "metadata": {},
   "outputs": [
    {
     "data": {
      "text/plain": [
       "669.3182392469604"
      ]
     },
     "execution_count": 73,
     "metadata": {},
     "output_type": "execute_result"
    }
   ],
   "source": [
    "# mse value - Test\n",
    "MSE = mse(Y_test, Y_pred)\n",
    "MSE"
   ]
  },
  {
   "cell_type": "code",
   "execution_count": 74,
   "id": "5850cc46-e518-490a-8765-6b35b5cdce41",
   "metadata": {},
   "outputs": [
    {
     "data": {
      "text/plain": [
       "631.1215268148104"
      ]
     },
     "execution_count": 74,
     "metadata": {},
     "output_type": "execute_result"
    }
   ],
   "source": [
    "# mse value - train\n",
    "MSE_t = mse(Y_train, Y_pred_train)\n",
    "MSE_t"
   ]
  },
  {
   "cell_type": "code",
   "execution_count": 75,
   "id": "9a436eae-9935-47c2-bb88-4feac6fc97fe",
   "metadata": {},
   "outputs": [
    {
     "data": {
      "text/plain": [
       "0.8287986476450676"
      ]
     },
     "execution_count": 75,
     "metadata": {},
     "output_type": "execute_result"
    }
   ],
   "source": [
    "# R^2 Value - Train\n",
    "r2_val_t = LinearModel.score(X_train, Y_train)\n",
    "r2_val_t"
   ]
  },
  {
   "cell_type": "code",
   "execution_count": 76,
   "id": "e2900ce2-7901-4ed9-9452-0caf7aadb1b6",
   "metadata": {},
   "outputs": [
    {
     "data": {
      "text/plain": [
       "0.8245817863750294"
      ]
     },
     "execution_count": 76,
     "metadata": {},
     "output_type": "execute_result"
    }
   ],
   "source": [
    "# R^2 Value - Test\n",
    "r2_val = LinearModel.score(X_test, Y_test)\n",
    "r2_val"
   ]
  },
  {
   "cell_type": "code",
   "execution_count": 77,
   "id": "620333f2-c53f-4f8e-a500-62b5adeefaa5",
   "metadata": {},
   "outputs": [
    {
     "data": {
      "text/plain": [
       "0.8245817863750294"
      ]
     },
     "execution_count": 77,
     "metadata": {},
     "output_type": "execute_result"
    }
   ],
   "source": [
    "from sklearn.metrics import r2_score\n",
    "r2_score(Y_test, Y_pred)"
   ]
  },
  {
   "cell_type": "code",
   "execution_count": 78,
   "id": "5acb560e-878f-4e13-9b56-fd90e23eec92",
   "metadata": {},
   "outputs": [
    {
     "data": {
      "text/plain": [
       "0.8287986476450676"
      ]
     },
     "execution_count": 78,
     "metadata": {},
     "output_type": "execute_result"
    }
   ],
   "source": [
    "r2_score(Y_train, Y_pred_train)"
   ]
  },
  {
   "cell_type": "code",
   "execution_count": 79,
   "id": "ff8879b7-b721-46b3-8ab2-b910266a118a",
   "metadata": {},
   "outputs": [
    {
     "data": {
      "text/plain": [
       "8719386223.052292"
      ]
     },
     "execution_count": 79,
     "metadata": {},
     "output_type": "execute_result"
    }
   ],
   "source": [
    "LinearModel.intercept_"
   ]
  },
  {
   "cell_type": "code",
   "execution_count": 80,
   "id": "706b661e-5f12-4cf9-ac3a-763448785972",
   "metadata": {},
   "outputs": [
    {
     "name": "stdout",
     "output_type": "stream",
     "text": [
      "0.07695125256481478\n",
      "5.237991711316969\n",
      "-0.3345865109885775\n",
      "6.424831243021686\n",
      "-8665214558.98715\n",
      "-8665214556.782269\n"
     ]
    }
   ],
   "source": [
    "for i in range(0, 6):\n",
    "    print(LinearModel.coef_[i])"
   ]
  },
  {
   "cell_type": "code",
   "execution_count": 81,
   "id": "af1237a7-5c50-4da1-9d14-08b0054ef204",
   "metadata": {},
   "outputs": [
    {
     "data": {
      "image/png": "[encoded data removed]",
      "text/plain": [
       "<Figure size 1440x720 with 1 Axes>"
      ]
     },
     "metadata": {
      "needs_background": "light"
     },
     "output_type": "display_data"
    }
   ],
   "source": [
    "# Dist Plot\n",
    "axis = sns.distplot(x=Y, hist=False, color='red', label='Actual Data')\n",
    "sns.distplot(x=Y_pred, hist=False, color='blue', label='Predicted Data', ax=axis)\n",
    "plt.xlabel('Price')\n",
    "plt.title('Actual value vs Predicted Value')\n",
    "plt.legend(loc='best')\n",
    "plt.show()"
   ]
  },
  {
   "cell_type": "code",
   "execution_count": 82,
   "id": "01b4e836-a6e6-453f-a5c1-f9dbee490746",
   "metadata": {},
   "outputs": [
    {
     "data": {
      "text/plain": [
       "array([0.81906226, 0.83416413, 0.82560304, 0.8226559 , 0.8044227 ,\n",
       "       0.81931007, 0.84248424, 0.80034652])"
      ]
     },
     "execution_count": 82,
     "metadata": {},
     "output_type": "execute_result"
    }
   ],
   "source": [
    "cv = KFold(n_splits=8, random_state=None)\n",
    "cross_val_score(LinearRegression(), X, Y, cv=cv)"
   ]
  },
  {
   "cell_type": "code",
   "execution_count": 83,
   "id": "856edde8-716a-401e-9a61-9aa7624f0e9c",
   "metadata": {},
   "outputs": [
    {
     "name": "stdout",
     "output_type": "stream",
     "text": [
      "Average Accuracy - 0.8210061073723074\n"
     ]
    }
   ],
   "source": [
    "result = cross_val_score(LinearRegression(), X, Y, cv=cv)\n",
    "print(f\"Average Accuracy - {result.mean()}\")"
   ]
  },
  {
   "cell_type": "markdown",
   "id": "9953a623-f379-4405-a8ad-22c65a4ce96b",
   "metadata": {},
   "source": [
    "#### What if we Try Decision tree for Regression / Prediction ?"
   ]
  },
  {
   "cell_type": "code",
   "execution_count": 84,
   "id": "9d3fe48a-f73c-4e7d-b074-3b2619f1942b",
   "metadata": {},
   "outputs": [],
   "source": [
    "Tree_model = DecisionTreeRegressor(criterion='squared_error', max_depth=6)\n",
    "Tree_model.fit(X_train, Y_train)\n",
    "Y_hat = Tree_model.predict(X_test)"
   ]
  },
  {
   "cell_type": "code",
   "execution_count": 85,
   "id": "37b78563-cbf6-4374-b5fb-018550e2cb45",
   "metadata": {},
   "outputs": [
    {
     "data": {
      "text/plain": [
       "0.8072385236078281"
      ]
     },
     "execution_count": 85,
     "metadata": {},
     "output_type": "execute_result"
    }
   ],
   "source": [
    "# R^2 Value\n",
    "r2_val_t = Tree_model.score(X_test, Y_test)\n",
    "r2_val_t"
   ]
  },
  {
   "cell_type": "code",
   "execution_count": 86,
   "id": "b4bc363d-15fc-4c1c-aca9-29db48158879",
   "metadata": {},
   "outputs": [
    {
     "data": {
      "text/plain": [
       "array([0.81511697, 0.80367522, 0.790366  , 0.79437227, 0.77289503,\n",
       "       0.7897062 , 0.81893575, 0.77786677])"
      ]
     },
     "execution_count": 86,
     "metadata": {},
     "output_type": "execute_result"
    }
   ],
   "source": [
    "cvt = KFold(n_splits=8, random_state=None)\n",
    "cross_val_score(DecisionTreeRegressor(criterion='squared_error', max_depth=6), X, Y, cv=cvt)"
   ]
  },
  {
   "cell_type": "code",
   "execution_count": 87,
   "id": "4a150b0a-eaa8-4e1b-8e19-aaddc38d5af3",
   "metadata": {},
   "outputs": [
    {
     "name": "stdout",
     "output_type": "stream",
     "text": [
      "Average Accuracy - 0.7951724133252334\n"
     ]
    }
   ],
   "source": [
    "result_t = cross_val_score(DecisionTreeRegressor(criterion='squared_error', max_depth=6), X, Y, cv=cvt)\n",
    "print(f\"Average Accuracy - {result_t.mean()}\")"
   ]
  },
  {
   "cell_type": "code",
   "execution_count": 88,
   "id": "a6dd656d-a985-4c7d-aac6-5360d3de2561",
   "metadata": {},
   "outputs": [
    {
     "data": {
      "text/plain": [
       "Index(['total_sqft', 'bathroom', 'balcony', 'BHK', 'Built-up  Area',\n",
       "       'Carpet  Area', 'Plot  Area', 'Super built-up  Area',\n",
       "       '1st Phase JP Nagar', '2nd Stage Nagarbhavi',\n",
       "       ...\n",
       "       'Uttarahalli', 'Varthur', 'Vidyaranyapura', 'Vijayanagar',\n",
       "       'Vittasandra', 'Whitefield', 'Yelachenahalli', 'Yelahanka',\n",
       "       'Yelahanka New Town', 'Yeshwanthpur'],\n",
       "      dtype='object', length=189)"
      ]
     },
     "execution_count": 88,
     "metadata": {},
     "output_type": "execute_result"
    }
   ],
   "source": [
    "X.columns"
   ]
  },
  {
   "cell_type": "markdown",
   "id": "ffb3df8d-70d4-4ff2-a559-617f8f103faf",
   "metadata": {},
   "source": [
    "##### Multiple Linear Regression Model gives better Accuracy than Decision tree"
   ]
  },
  {
   "cell_type": "markdown",
   "id": "373cde2e-fc5a-4b61-bfec-63d217786d44",
   "metadata": {},
   "source": [
    "## Exporting the Pickle File "
   ]
  },
  {
   "cell_type": "code",
   "execution_count": 89,
   "id": "d36cf527-ded4-4a10-9a87-5a8f887815bb",
   "metadata": {},
   "outputs": [],
   "source": [
    "import pickle\n",
    "with open('bangalore_home_prices_model.pickle', 'wb') as obj:\n",
    "    pickle.dump(LinearModel, obj)"
   ]
  },
  {
   "cell_type": "markdown",
   "id": "6e9c948c-aab1-408d-bc62-8642a3e044e7",
   "metadata": {},
   "source": [
    "## Importing Columns \n"
   ]
  },
  {
   "cell_type": "code",
   "execution_count": 90,
   "id": "de01d79c-8b37-45ea-99aa-d1e4696b2fc2",
   "metadata": {},
   "outputs": [],
   "source": [
    "import json\n",
    "columns = {\n",
    "    'Columns': [col.lower() for col in X.columns]\n",
    "}\n",
    "with open(\"Columns.json\", 'w') as f:\n",
    "    f.write(json.dumps(columns))"
   ]
  }
 ],
 "metadata": {
  "kernelspec": {
   "display_name": "Python 3 (ipykernel)",
   "language": "python",
   "name": "python3"
  },
  "language_info": {
   "codemirror_mode": {
    "name": "ipython",
    "version": 3
   },
   "file_extension": ".py",
   "mimetype": "text/x-python",
   "name": "python",
   "nbconvert_exporter": "python",
   "pygments_lexer": "ipython3",
   "version": "3.9.9"
  },
  "vscode": {
   "interpreter": {
    "hash": "6dde3ae2bccbec22dda66a2c07180c7639d9377fbc3bfeefe49bfceb1d8c7dd1"
   }
  }
 },
 "nbformat": 4,
 "nbformat_minor": 5
}
